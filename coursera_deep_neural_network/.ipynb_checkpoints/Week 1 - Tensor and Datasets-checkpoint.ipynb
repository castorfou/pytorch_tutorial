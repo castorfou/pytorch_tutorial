{
 "cells": [
  {
   "cell_type": "markdown",
   "id": "sought-berlin",
   "metadata": {},
   "source": [
    "# Tensors 1D"
   ]
  },
  {
   "cell_type": "markdown",
   "id": "competent-cookie",
   "metadata": {},
   "source": [
    "## The basics"
   ]
  },
  {
   "cell_type": "markdown",
   "id": "applied-liechtenstein",
   "metadata": {},
   "source": [
    "### tensors, dtype, type()"
   ]
  },
  {
   "cell_type": "code",
   "execution_count": 2,
   "id": "ancient-contribution",
   "metadata": {
    "ExecuteTime": {
     "end_time": "2021-07-07T11:42:49.791221Z",
     "start_time": "2021-07-07T11:42:49.776317Z"
    }
   },
   "outputs": [],
   "source": [
    "import torch\n",
    "a=torch.tensor([7,4,3,2,6])"
   ]
  },
  {
   "cell_type": "code",
   "execution_count": 3,
   "id": "narrow-mongolia",
   "metadata": {
    "ExecuteTime": {
     "end_time": "2021-07-07T11:42:55.398591Z",
     "start_time": "2021-07-07T11:42:55.381271Z"
    }
   },
   "outputs": [
    {
     "data": {
      "text/plain": [
       "tensor([7, 4, 3, 2, 6])"
      ]
     },
     "execution_count": 3,
     "metadata": {},
     "output_type": "execute_result"
    }
   ],
   "source": [
    "a"
   ]
  },
  {
   "cell_type": "code",
   "execution_count": 4,
   "id": "compliant-columbia",
   "metadata": {
    "ExecuteTime": {
     "end_time": "2021-07-07T11:43:05.297654Z",
     "start_time": "2021-07-07T11:43:05.280774Z"
    }
   },
   "outputs": [
    {
     "data": {
      "text/plain": [
       "tensor(6)"
      ]
     },
     "execution_count": 4,
     "metadata": {},
     "output_type": "execute_result"
    }
   ],
   "source": [
    "a[4]"
   ]
  },
  {
   "cell_type": "code",
   "execution_count": 5,
   "id": "laughing-membrane",
   "metadata": {
    "ExecuteTime": {
     "end_time": "2021-07-07T11:43:20.769460Z",
     "start_time": "2021-07-07T11:43:20.761022Z"
    }
   },
   "outputs": [
    {
     "data": {
      "text/plain": [
       "torch.int64"
      ]
     },
     "execution_count": 5,
     "metadata": {},
     "output_type": "execute_result"
    }
   ],
   "source": [
    "a.dtype"
   ]
  },
  {
   "cell_type": "code",
   "execution_count": 6,
   "id": "aging-history",
   "metadata": {
    "ExecuteTime": {
     "end_time": "2021-07-07T11:43:35.016861Z",
     "start_time": "2021-07-07T11:43:35.007961Z"
    }
   },
   "outputs": [
    {
     "data": {
      "text/plain": [
       "'torch.LongTensor'"
      ]
     },
     "execution_count": 6,
     "metadata": {},
     "output_type": "execute_result"
    }
   ],
   "source": [
    "a.type()"
   ]
  },
  {
   "cell_type": "markdown",
   "id": "horizontal-valuation",
   "metadata": {},
   "source": [
    "### tensors of float"
   ]
  },
  {
   "cell_type": "code",
   "execution_count": 7,
   "id": "outer-barbados",
   "metadata": {
    "ExecuteTime": {
     "end_time": "2021-07-07T11:44:01.946934Z",
     "start_time": "2021-07-07T11:44:01.944504Z"
    }
   },
   "outputs": [],
   "source": [
    "a=torch.tensor([0.0, 1.0, 2.1, 3.0, 4.0])"
   ]
  },
  {
   "cell_type": "code",
   "execution_count": 8,
   "id": "criminal-australia",
   "metadata": {
    "ExecuteTime": {
     "end_time": "2021-07-07T11:44:03.432519Z",
     "start_time": "2021-07-07T11:44:03.407325Z"
    }
   },
   "outputs": [
    {
     "data": {
      "text/plain": [
       "tensor([0.0000, 1.0000, 2.1000, 3.0000, 4.0000])"
      ]
     },
     "execution_count": 8,
     "metadata": {},
     "output_type": "execute_result"
    }
   ],
   "source": [
    "a"
   ]
  },
  {
   "cell_type": "code",
   "execution_count": 9,
   "id": "extensive-transport",
   "metadata": {
    "ExecuteTime": {
     "end_time": "2021-07-07T11:44:12.144492Z",
     "start_time": "2021-07-07T11:44:12.133845Z"
    }
   },
   "outputs": [
    {
     "data": {
      "text/plain": [
       "torch.float32"
      ]
     },
     "execution_count": 9,
     "metadata": {},
     "output_type": "execute_result"
    }
   ],
   "source": [
    "a.dtype"
   ]
  },
  {
   "cell_type": "code",
   "execution_count": 10,
   "id": "conscious-attitude",
   "metadata": {
    "ExecuteTime": {
     "end_time": "2021-07-07T11:44:17.220449Z",
     "start_time": "2021-07-07T11:44:17.213889Z"
    }
   },
   "outputs": [
    {
     "data": {
      "text/plain": [
       "'torch.FloatTensor'"
      ]
     },
     "execution_count": 10,
     "metadata": {},
     "output_type": "execute_result"
    }
   ],
   "source": [
    "a.type()"
   ]
  },
  {
   "cell_type": "markdown",
   "id": "essential-drill",
   "metadata": {},
   "source": [
    "### force tensor type"
   ]
  },
  {
   "cell_type": "code",
   "execution_count": 11,
   "id": "collect-membrane",
   "metadata": {
    "ExecuteTime": {
     "end_time": "2021-07-07T11:44:52.182231Z",
     "start_time": "2021-07-07T11:44:52.176377Z"
    }
   },
   "outputs": [
    {
     "name": "stderr",
     "output_type": "stream",
     "text": [
      "<ipython-input-11-d6616eab2e34>:1: DeprecationWarning: an integer is required (got type float).  Implicit conversion to integers using __int__ is deprecated, and may be removed in a future version of Python.\n",
      "  a=torch.tensor([0.0,1.0,2.0,3.0,4.0], dtype=torch.int32)\n"
     ]
    }
   ],
   "source": [
    "a=torch.tensor([0.0,1.0,2.0,3.0,4.0], dtype=torch.int32)"
   ]
  },
  {
   "cell_type": "code",
   "execution_count": 12,
   "id": "common-sigma",
   "metadata": {
    "ExecuteTime": {
     "end_time": "2021-07-07T11:45:23.678614Z",
     "start_time": "2021-07-07T11:45:23.675911Z"
    }
   },
   "outputs": [
    {
     "data": {
      "text/plain": [
       "torch.int32"
      ]
     },
     "execution_count": 12,
     "metadata": {},
     "output_type": "execute_result"
    }
   ],
   "source": [
    "a.dtype"
   ]
  },
  {
   "cell_type": "markdown",
   "id": "stretch-progress",
   "metadata": {},
   "source": [
    "### FloatTensor"
   ]
  },
  {
   "cell_type": "code",
   "execution_count": 13,
   "id": "lasting-allowance",
   "metadata": {
    "ExecuteTime": {
     "end_time": "2021-07-07T11:45:57.806179Z",
     "start_time": "2021-07-07T11:45:57.803734Z"
    }
   },
   "outputs": [],
   "source": [
    "import torch\n",
    "a=torch.FloatTensor([0,1,2,3,4])"
   ]
  },
  {
   "cell_type": "code",
   "execution_count": 14,
   "id": "emotional-driver",
   "metadata": {
    "ExecuteTime": {
     "end_time": "2021-07-07T11:45:59.955952Z",
     "start_time": "2021-07-07T11:45:59.945381Z"
    }
   },
   "outputs": [
    {
     "data": {
      "text/plain": [
       "tensor([0., 1., 2., 3., 4.])"
      ]
     },
     "execution_count": 14,
     "metadata": {},
     "output_type": "execute_result"
    }
   ],
   "source": [
    "a"
   ]
  },
  {
   "cell_type": "markdown",
   "id": "electronic-removal",
   "metadata": {},
   "source": [
    "### Convert with .type()"
   ]
  },
  {
   "cell_type": "code",
   "execution_count": 15,
   "id": "technological-nomination",
   "metadata": {
    "ExecuteTime": {
     "end_time": "2021-07-07T11:49:56.808212Z",
     "start_time": "2021-07-07T11:49:56.803033Z"
    }
   },
   "outputs": [],
   "source": [
    "import torch\n",
    "a=torch.tensor([0,1,2,3,4])\n",
    "a=a.type(torch.FloatTensor)"
   ]
  },
  {
   "cell_type": "code",
   "execution_count": 17,
   "id": "yellow-brazilian",
   "metadata": {
    "ExecuteTime": {
     "end_time": "2021-07-07T11:50:06.899707Z",
     "start_time": "2021-07-07T11:50:06.890437Z"
    }
   },
   "outputs": [
    {
     "data": {
      "text/plain": [
       "'torch.FloatTensor'"
      ]
     },
     "execution_count": 17,
     "metadata": {},
     "output_type": "execute_result"
    }
   ],
   "source": [
    "a.type()"
   ]
  },
  {
   "cell_type": "markdown",
   "id": "identical-norfolk",
   "metadata": {},
   "source": [
    "### size(), ndimension()"
   ]
  },
  {
   "cell_type": "code",
   "execution_count": 19,
   "id": "alone-boating",
   "metadata": {
    "ExecuteTime": {
     "end_time": "2021-07-07T11:55:16.768878Z",
     "start_time": "2021-07-07T11:55:16.763610Z"
    }
   },
   "outputs": [],
   "source": [
    "a=torch.Tensor([0,1,2,3,4])"
   ]
  },
  {
   "cell_type": "code",
   "execution_count": 20,
   "id": "straight-access",
   "metadata": {
    "ExecuteTime": {
     "end_time": "2021-07-07T11:55:23.865982Z",
     "start_time": "2021-07-07T11:55:23.860192Z"
    }
   },
   "outputs": [
    {
     "data": {
      "text/plain": [
       "torch.Size([5])"
      ]
     },
     "execution_count": 20,
     "metadata": {},
     "output_type": "execute_result"
    }
   ],
   "source": [
    "a.size()"
   ]
  },
  {
   "cell_type": "code",
   "execution_count": 21,
   "id": "afraid-celebrity",
   "metadata": {
    "ExecuteTime": {
     "end_time": "2021-07-07T11:55:33.908730Z",
     "start_time": "2021-07-07T11:55:33.900025Z"
    }
   },
   "outputs": [
    {
     "data": {
      "text/plain": [
       "1"
      ]
     },
     "execution_count": 21,
     "metadata": {},
     "output_type": "execute_result"
    }
   ],
   "source": [
    "a.ndimension()"
   ]
  },
  {
   "cell_type": "markdown",
   "id": "laughing-ivory",
   "metadata": {},
   "source": [
    "### tensor vs Tensor\n",
    "\n",
    "https://stackoverflow.com/questions/51911749/what-is-the-difference-between-torch-tensor-and-torch-tensor"
   ]
  },
  {
   "cell_type": "markdown",
   "id": "incorrect-browse",
   "metadata": {},
   "source": [
    "torch.tensor infers the dtype automatically, while torch.Tensor returns a torch.FloatTensor. I would recommend to stick to torch.tensor, which also has arguments like dtype, if you would like to change the type."
   ]
  },
  {
   "cell_type": "markdown",
   "id": "tired-trance",
   "metadata": {},
   "source": [
    "### convert 1D to 2D using view"
   ]
  },
  {
   "cell_type": "code",
   "execution_count": 22,
   "id": "respective-lawsuit",
   "metadata": {
    "ExecuteTime": {
     "end_time": "2021-07-07T11:57:12.263508Z",
     "start_time": "2021-07-07T11:57:12.261101Z"
    }
   },
   "outputs": [],
   "source": [
    "a=torch.Tensor([0,1,2,3,4])\n",
    "a_col = a.view(5,1)"
   ]
  },
  {
   "cell_type": "code",
   "execution_count": 23,
   "id": "upper-finance",
   "metadata": {
    "ExecuteTime": {
     "end_time": "2021-07-07T11:57:15.728261Z",
     "start_time": "2021-07-07T11:57:15.724990Z"
    }
   },
   "outputs": [
    {
     "data": {
      "text/plain": [
       "tensor([[0.],\n",
       "        [1.],\n",
       "        [2.],\n",
       "        [3.],\n",
       "        [4.]])"
      ]
     },
     "execution_count": 23,
     "metadata": {},
     "output_type": "execute_result"
    }
   ],
   "source": [
    "a_col"
   ]
  },
  {
   "cell_type": "code",
   "execution_count": 24,
   "id": "mental-hospital",
   "metadata": {
    "ExecuteTime": {
     "end_time": "2021-07-07T11:57:32.729426Z",
     "start_time": "2021-07-07T11:57:32.716177Z"
    }
   },
   "outputs": [
    {
     "data": {
      "text/plain": [
       "tensor([[0.],\n",
       "        [1.],\n",
       "        [2.],\n",
       "        [3.],\n",
       "        [4.]])"
      ]
     },
     "execution_count": 24,
     "metadata": {},
     "output_type": "execute_result"
    }
   ],
   "source": [
    "b_col = a.view(-1,1)\n",
    "b_col"
   ]
  },
  {
   "cell_type": "code",
   "execution_count": 25,
   "id": "complex-theater",
   "metadata": {
    "ExecuteTime": {
     "end_time": "2021-07-07T11:58:00.738154Z",
     "start_time": "2021-07-07T11:58:00.732722Z"
    }
   },
   "outputs": [
    {
     "data": {
      "text/plain": [
       "2"
      ]
     },
     "execution_count": 25,
     "metadata": {},
     "output_type": "execute_result"
    }
   ],
   "source": [
    "a_col.ndimension()"
   ]
  },
  {
   "cell_type": "markdown",
   "id": "protecting-straight",
   "metadata": {},
   "source": [
    "### create torch tensors from numpy arrays: from_numpy, numpy()"
   ]
  },
  {
   "cell_type": "code",
   "execution_count": 26,
   "id": "perfect-decline",
   "metadata": {
    "ExecuteTime": {
     "end_time": "2021-07-07T11:59:53.177963Z",
     "start_time": "2021-07-07T11:59:53.172361Z"
    }
   },
   "outputs": [],
   "source": [
    "import numpy as np\n",
    "numpy_array = np.array([0.0, 1.0, 2.0, 3.0, 4.0])"
   ]
  },
  {
   "cell_type": "code",
   "execution_count": 27,
   "id": "vulnerable-service",
   "metadata": {
    "ExecuteTime": {
     "end_time": "2021-07-07T12:00:34.537042Z",
     "start_time": "2021-07-07T12:00:34.534285Z"
    }
   },
   "outputs": [],
   "source": [
    "torch_tensor = torch.from_numpy(numpy_array)\n",
    "back_to_numpy = torch_tensor.numpy()"
   ]
  },
  {
   "cell_type": "code",
   "execution_count": 28,
   "id": "recreational-barbados",
   "metadata": {
    "ExecuteTime": {
     "end_time": "2021-07-07T12:00:37.755102Z",
     "start_time": "2021-07-07T12:00:37.741308Z"
    }
   },
   "outputs": [
    {
     "data": {
      "text/plain": [
       "tensor([0., 1., 2., 3., 4.], dtype=torch.float64)"
      ]
     },
     "execution_count": 28,
     "metadata": {},
     "output_type": "execute_result"
    }
   ],
   "source": [
    "torch_tensor"
   ]
  },
  {
   "cell_type": "code",
   "execution_count": 29,
   "id": "driven-fleece",
   "metadata": {
    "ExecuteTime": {
     "end_time": "2021-07-07T12:00:41.917347Z",
     "start_time": "2021-07-07T12:00:41.901960Z"
    }
   },
   "outputs": [
    {
     "data": {
      "text/plain": [
       "array([0., 1., 2., 3., 4.])"
      ]
     },
     "execution_count": 29,
     "metadata": {},
     "output_type": "execute_result"
    }
   ],
   "source": [
    "back_to_numpy"
   ]
  },
  {
   "cell_type": "markdown",
   "id": "patent-genre",
   "metadata": {},
   "source": [
    "### pandas series to torch tensors"
   ]
  },
  {
   "cell_type": "code",
   "execution_count": 32,
   "id": "designing-choir",
   "metadata": {
    "ExecuteTime": {
     "end_time": "2021-07-07T12:03:51.329121Z",
     "start_time": "2021-07-07T12:03:51.317481Z"
    }
   },
   "outputs": [
    {
     "data": {
      "text/plain": [
       "0     0.1\n",
       "1     2.0\n",
       "2     0.3\n",
       "3    10.1\n",
       "dtype: float64"
      ]
     },
     "execution_count": 32,
     "metadata": {},
     "output_type": "execute_result"
    }
   ],
   "source": [
    "import pandas as pd\n",
    "pandas_series = pd.Series([0.1, 2, 0.3, 10.1])\n",
    "pandas_series"
   ]
  },
  {
   "cell_type": "code",
   "execution_count": 33,
   "id": "numerical-hours",
   "metadata": {
    "ExecuteTime": {
     "end_time": "2021-07-07T12:04:18.866685Z",
     "start_time": "2021-07-07T12:04:18.861964Z"
    }
   },
   "outputs": [],
   "source": [
    "pandas_to_torch = torch.from_numpy(pandas_series.values)"
   ]
  },
  {
   "cell_type": "code",
   "execution_count": 34,
   "id": "identified-heritage",
   "metadata": {
    "ExecuteTime": {
     "end_time": "2021-07-07T12:04:22.924113Z",
     "start_time": "2021-07-07T12:04:22.918297Z"
    }
   },
   "outputs": [
    {
     "data": {
      "text/plain": [
       "tensor([ 0.1000,  2.0000,  0.3000, 10.1000], dtype=torch.float64)"
      ]
     },
     "execution_count": 34,
     "metadata": {},
     "output_type": "execute_result"
    }
   ],
   "source": [
    "pandas_to_torch"
   ]
  },
  {
   "cell_type": "markdown",
   "id": "racial-reduction",
   "metadata": {},
   "source": [
    "### tensor to list: tolist()"
   ]
  },
  {
   "cell_type": "code",
   "execution_count": 35,
   "id": "exceptional-folder",
   "metadata": {
    "ExecuteTime": {
     "end_time": "2021-07-07T12:05:34.488918Z",
     "start_time": "2021-07-07T12:05:34.485797Z"
    }
   },
   "outputs": [
    {
     "data": {
      "text/plain": [
       "[0, 1, 2, 3]"
      ]
     },
     "execution_count": 35,
     "metadata": {},
     "output_type": "execute_result"
    }
   ],
   "source": [
    "this_tensor = torch.tensor([0, 1, 2, 3])\n",
    "torch_to_list = this_tensor.tolist()\n",
    "torch_to_list"
   ]
  },
  {
   "cell_type": "markdown",
   "id": "satisfied-clearing",
   "metadata": {},
   "source": [
    "### item to return a number"
   ]
  },
  {
   "cell_type": "code",
   "execution_count": 36,
   "id": "written-hebrew",
   "metadata": {
    "ExecuteTime": {
     "end_time": "2021-07-07T12:06:43.065018Z",
     "start_time": "2021-07-07T12:06:43.062102Z"
    }
   },
   "outputs": [
    {
     "data": {
      "text/plain": [
       "tensor(5)"
      ]
     },
     "execution_count": 36,
     "metadata": {},
     "output_type": "execute_result"
    }
   ],
   "source": [
    "new_tensor = torch.tensor([5, 2, 6, 1])\n",
    "new_tensor[0]"
   ]
  },
  {
   "cell_type": "code",
   "execution_count": 37,
   "id": "surprised-trinidad",
   "metadata": {
    "ExecuteTime": {
     "end_time": "2021-07-07T12:06:50.941904Z",
     "start_time": "2021-07-07T12:06:50.935579Z"
    }
   },
   "outputs": [
    {
     "data": {
      "text/plain": [
       "5"
      ]
     },
     "execution_count": 37,
     "metadata": {},
     "output_type": "execute_result"
    }
   ],
   "source": [
    "new_tensor[0].item()"
   ]
  },
  {
   "cell_type": "markdown",
   "id": "centered-resistance",
   "metadata": {},
   "source": [
    "## indexing and slicing"
   ]
  },
  {
   "cell_type": "code",
   "execution_count": null,
   "id": "palestinian-daniel",
   "metadata": {},
   "outputs": [],
   "source": []
  }
 ],
 "metadata": {
  "kernelspec": {
   "display_name": "Python 3",
   "language": "python",
   "name": "python3"
  },
  "language_info": {
   "codemirror_mode": {
    "name": "ipython",
    "version": 3
   },
   "file_extension": ".py",
   "mimetype": "text/x-python",
   "name": "python",
   "nbconvert_exporter": "python",
   "pygments_lexer": "ipython3",
   "version": "3.8.5"
  },
  "toc": {
   "base_numbering": 1,
   "nav_menu": {},
   "number_sections": true,
   "sideBar": true,
   "skip_h1_title": false,
   "title_cell": "Table of Contents",
   "title_sidebar": "Contents",
   "toc_cell": false,
   "toc_position": {},
   "toc_section_display": true,
   "toc_window_display": true
  }
 },
 "nbformat": 4,
 "nbformat_minor": 5
}
