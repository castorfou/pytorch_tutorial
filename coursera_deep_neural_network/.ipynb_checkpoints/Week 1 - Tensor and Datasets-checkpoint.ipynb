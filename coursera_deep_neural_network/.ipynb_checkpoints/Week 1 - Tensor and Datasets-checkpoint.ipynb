{
 "cells": [
  {
   "cell_type": "markdown",
   "id": "physical-gothic",
   "metadata": {},
   "source": [
    "# Tensors 1D"
   ]
  },
  {
   "cell_type": "markdown",
   "id": "contained-archives",
   "metadata": {},
   "source": [
    "## The basics"
   ]
  },
  {
   "cell_type": "markdown",
   "id": "lonely-scanner",
   "metadata": {},
   "source": [
    "### tensors, dtype, type()"
   ]
  },
  {
   "cell_type": "code",
   "execution_count": 2,
   "id": "related-haiti",
   "metadata": {
    "ExecuteTime": {
     "end_time": "2021-07-07T11:42:49.791221Z",
     "start_time": "2021-07-07T11:42:49.776317Z"
    }
   },
   "outputs": [],
   "source": [
    "import torch\n",
    "a=torch.tensor([7,4,3,2,6])"
   ]
  },
  {
   "cell_type": "code",
   "execution_count": 3,
   "id": "severe-helping",
   "metadata": {
    "ExecuteTime": {
     "end_time": "2021-07-07T11:42:55.398591Z",
     "start_time": "2021-07-07T11:42:55.381271Z"
    }
   },
   "outputs": [
    {
     "data": {
      "text/plain": [
       "tensor([7, 4, 3, 2, 6])"
      ]
     },
     "execution_count": 3,
     "metadata": {},
     "output_type": "execute_result"
    }
   ],
   "source": [
    "a"
   ]
  },
  {
   "cell_type": "code",
   "execution_count": 4,
   "id": "confidential-pizza",
   "metadata": {
    "ExecuteTime": {
     "end_time": "2021-07-07T11:43:05.297654Z",
     "start_time": "2021-07-07T11:43:05.280774Z"
    }
   },
   "outputs": [
    {
     "data": {
      "text/plain": [
       "tensor(6)"
      ]
     },
     "execution_count": 4,
     "metadata": {},
     "output_type": "execute_result"
    }
   ],
   "source": [
    "a[4]"
   ]
  },
  {
   "cell_type": "code",
   "execution_count": 5,
   "id": "regional-index",
   "metadata": {
    "ExecuteTime": {
     "end_time": "2021-07-07T11:43:20.769460Z",
     "start_time": "2021-07-07T11:43:20.761022Z"
    }
   },
   "outputs": [
    {
     "data": {
      "text/plain": [
       "torch.int64"
      ]
     },
     "execution_count": 5,
     "metadata": {},
     "output_type": "execute_result"
    }
   ],
   "source": [
    "a.dtype"
   ]
  },
  {
   "cell_type": "code",
   "execution_count": 6,
   "id": "moderate-working",
   "metadata": {
    "ExecuteTime": {
     "end_time": "2021-07-07T11:43:35.016861Z",
     "start_time": "2021-07-07T11:43:35.007961Z"
    }
   },
   "outputs": [
    {
     "data": {
      "text/plain": [
       "'torch.LongTensor'"
      ]
     },
     "execution_count": 6,
     "metadata": {},
     "output_type": "execute_result"
    }
   ],
   "source": [
    "a.type()"
   ]
  },
  {
   "cell_type": "markdown",
   "id": "monthly-cincinnati",
   "metadata": {},
   "source": [
    "### tensors of float"
   ]
  },
  {
   "cell_type": "code",
   "execution_count": 7,
   "id": "normal-riding",
   "metadata": {
    "ExecuteTime": {
     "end_time": "2021-07-07T11:44:01.946934Z",
     "start_time": "2021-07-07T11:44:01.944504Z"
    }
   },
   "outputs": [],
   "source": [
    "a=torch.tensor([0.0, 1.0, 2.1, 3.0, 4.0])"
   ]
  },
  {
   "cell_type": "code",
   "execution_count": 8,
   "id": "arctic-gross",
   "metadata": {
    "ExecuteTime": {
     "end_time": "2021-07-07T11:44:03.432519Z",
     "start_time": "2021-07-07T11:44:03.407325Z"
    }
   },
   "outputs": [
    {
     "data": {
      "text/plain": [
       "tensor([0.0000, 1.0000, 2.1000, 3.0000, 4.0000])"
      ]
     },
     "execution_count": 8,
     "metadata": {},
     "output_type": "execute_result"
    }
   ],
   "source": [
    "a"
   ]
  },
  {
   "cell_type": "code",
   "execution_count": 9,
   "id": "about-defensive",
   "metadata": {
    "ExecuteTime": {
     "end_time": "2021-07-07T11:44:12.144492Z",
     "start_time": "2021-07-07T11:44:12.133845Z"
    }
   },
   "outputs": [
    {
     "data": {
      "text/plain": [
       "torch.float32"
      ]
     },
     "execution_count": 9,
     "metadata": {},
     "output_type": "execute_result"
    }
   ],
   "source": [
    "a.dtype"
   ]
  },
  {
   "cell_type": "code",
   "execution_count": 10,
   "id": "bibliographic-joseph",
   "metadata": {
    "ExecuteTime": {
     "end_time": "2021-07-07T11:44:17.220449Z",
     "start_time": "2021-07-07T11:44:17.213889Z"
    }
   },
   "outputs": [
    {
     "data": {
      "text/plain": [
       "'torch.FloatTensor'"
      ]
     },
     "execution_count": 10,
     "metadata": {},
     "output_type": "execute_result"
    }
   ],
   "source": [
    "a.type()"
   ]
  },
  {
   "cell_type": "markdown",
   "id": "collectible-price",
   "metadata": {},
   "source": [
    "### force tensor type"
   ]
  },
  {
   "cell_type": "code",
   "execution_count": 11,
   "id": "amino-participant",
   "metadata": {
    "ExecuteTime": {
     "end_time": "2021-07-07T11:44:52.182231Z",
     "start_time": "2021-07-07T11:44:52.176377Z"
    }
   },
   "outputs": [
    {
     "name": "stderr",
     "output_type": "stream",
     "text": [
      "<ipython-input-11-d6616eab2e34>:1: DeprecationWarning: an integer is required (got type float).  Implicit conversion to integers using __int__ is deprecated, and may be removed in a future version of Python.\n",
      "  a=torch.tensor([0.0,1.0,2.0,3.0,4.0], dtype=torch.int32)\n"
     ]
    }
   ],
   "source": [
    "a=torch.tensor([0.0,1.0,2.0,3.0,4.0], dtype=torch.int32)"
   ]
  },
  {
   "cell_type": "code",
   "execution_count": 12,
   "id": "dedicated-morning",
   "metadata": {
    "ExecuteTime": {
     "end_time": "2021-07-07T11:45:23.678614Z",
     "start_time": "2021-07-07T11:45:23.675911Z"
    }
   },
   "outputs": [
    {
     "data": {
      "text/plain": [
       "torch.int32"
      ]
     },
     "execution_count": 12,
     "metadata": {},
     "output_type": "execute_result"
    }
   ],
   "source": [
    "a.dtype"
   ]
  },
  {
   "cell_type": "markdown",
   "id": "frequent-friday",
   "metadata": {},
   "source": [
    "### FloatTensor"
   ]
  },
  {
   "cell_type": "code",
   "execution_count": 13,
   "id": "radio-vegetation",
   "metadata": {
    "ExecuteTime": {
     "end_time": "2021-07-07T11:45:57.806179Z",
     "start_time": "2021-07-07T11:45:57.803734Z"
    }
   },
   "outputs": [],
   "source": [
    "import torch\n",
    "a=torch.FloatTensor([0,1,2,3,4])"
   ]
  },
  {
   "cell_type": "code",
   "execution_count": 14,
   "id": "worst-profile",
   "metadata": {
    "ExecuteTime": {
     "end_time": "2021-07-07T11:45:59.955952Z",
     "start_time": "2021-07-07T11:45:59.945381Z"
    }
   },
   "outputs": [
    {
     "data": {
      "text/plain": [
       "tensor([0., 1., 2., 3., 4.])"
      ]
     },
     "execution_count": 14,
     "metadata": {},
     "output_type": "execute_result"
    }
   ],
   "source": [
    "a"
   ]
  },
  {
   "cell_type": "markdown",
   "id": "contained-amazon",
   "metadata": {},
   "source": [
    "### Convert with .type()"
   ]
  },
  {
   "cell_type": "code",
   "execution_count": 15,
   "id": "hungry-representation",
   "metadata": {
    "ExecuteTime": {
     "end_time": "2021-07-07T11:49:56.808212Z",
     "start_time": "2021-07-07T11:49:56.803033Z"
    }
   },
   "outputs": [],
   "source": [
    "import torch\n",
    "a=torch.tensor([0,1,2,3,4])\n",
    "a=a.type(torch.FloatTensor)"
   ]
  },
  {
   "cell_type": "code",
   "execution_count": 17,
   "id": "proved-surgeon",
   "metadata": {
    "ExecuteTime": {
     "end_time": "2021-07-07T11:50:06.899707Z",
     "start_time": "2021-07-07T11:50:06.890437Z"
    }
   },
   "outputs": [
    {
     "data": {
      "text/plain": [
       "'torch.FloatTensor'"
      ]
     },
     "execution_count": 17,
     "metadata": {},
     "output_type": "execute_result"
    }
   ],
   "source": [
    "a.type()"
   ]
  },
  {
   "cell_type": "markdown",
   "id": "smaller-indonesian",
   "metadata": {},
   "source": [
    "### size(), ndimension()"
   ]
  },
  {
   "cell_type": "code",
   "execution_count": 19,
   "id": "important-replacement",
   "metadata": {
    "ExecuteTime": {
     "end_time": "2021-07-07T11:55:16.768878Z",
     "start_time": "2021-07-07T11:55:16.763610Z"
    }
   },
   "outputs": [],
   "source": [
    "a=torch.Tensor([0,1,2,3,4])"
   ]
  },
  {
   "cell_type": "code",
   "execution_count": 20,
   "id": "recognized-hayes",
   "metadata": {
    "ExecuteTime": {
     "end_time": "2021-07-07T11:55:23.865982Z",
     "start_time": "2021-07-07T11:55:23.860192Z"
    }
   },
   "outputs": [
    {
     "data": {
      "text/plain": [
       "torch.Size([5])"
      ]
     },
     "execution_count": 20,
     "metadata": {},
     "output_type": "execute_result"
    }
   ],
   "source": [
    "a.size()"
   ]
  },
  {
   "cell_type": "code",
   "execution_count": 21,
   "id": "prime-small",
   "metadata": {
    "ExecuteTime": {
     "end_time": "2021-07-07T11:55:33.908730Z",
     "start_time": "2021-07-07T11:55:33.900025Z"
    }
   },
   "outputs": [
    {
     "data": {
      "text/plain": [
       "1"
      ]
     },
     "execution_count": 21,
     "metadata": {},
     "output_type": "execute_result"
    }
   ],
   "source": [
    "a.ndimension()"
   ]
  },
  {
   "cell_type": "markdown",
   "id": "military-terry",
   "metadata": {},
   "source": [
    "### tensor vs Tensor\n",
    "\n",
    "https://stackoverflow.com/questions/51911749/what-is-the-difference-between-torch-tensor-and-torch-tensor"
   ]
  },
  {
   "cell_type": "markdown",
   "id": "stopped-baseball",
   "metadata": {},
   "source": [
    "torch.tensor infers the dtype automatically, while torch.Tensor returns a torch.FloatTensor. I would recommend to stick to torch.tensor, which also has arguments like dtype, if you would like to change the type."
   ]
  },
  {
   "cell_type": "markdown",
   "id": "coastal-johnston",
   "metadata": {},
   "source": [
    "### convert 1D to 2D using view"
   ]
  },
  {
   "cell_type": "code",
   "execution_count": 22,
   "id": "affiliated-emphasis",
   "metadata": {
    "ExecuteTime": {
     "end_time": "2021-07-07T11:57:12.263508Z",
     "start_time": "2021-07-07T11:57:12.261101Z"
    }
   },
   "outputs": [],
   "source": [
    "a=torch.Tensor([0,1,2,3,4])\n",
    "a_col = a.view(5,1)"
   ]
  },
  {
   "cell_type": "code",
   "execution_count": 23,
   "id": "pretty-administrator",
   "metadata": {
    "ExecuteTime": {
     "end_time": "2021-07-07T11:57:15.728261Z",
     "start_time": "2021-07-07T11:57:15.724990Z"
    }
   },
   "outputs": [
    {
     "data": {
      "text/plain": [
       "tensor([[0.],\n",
       "        [1.],\n",
       "        [2.],\n",
       "        [3.],\n",
       "        [4.]])"
      ]
     },
     "execution_count": 23,
     "metadata": {},
     "output_type": "execute_result"
    }
   ],
   "source": [
    "a_col"
   ]
  },
  {
   "cell_type": "code",
   "execution_count": 24,
   "id": "raised-demographic",
   "metadata": {
    "ExecuteTime": {
     "end_time": "2021-07-07T11:57:32.729426Z",
     "start_time": "2021-07-07T11:57:32.716177Z"
    }
   },
   "outputs": [
    {
     "data": {
      "text/plain": [
       "tensor([[0.],\n",
       "        [1.],\n",
       "        [2.],\n",
       "        [3.],\n",
       "        [4.]])"
      ]
     },
     "execution_count": 24,
     "metadata": {},
     "output_type": "execute_result"
    }
   ],
   "source": [
    "b_col = a.view(-1,1)\n",
    "b_col"
   ]
  },
  {
   "cell_type": "code",
   "execution_count": 25,
   "id": "running-student",
   "metadata": {
    "ExecuteTime": {
     "end_time": "2021-07-07T11:58:00.738154Z",
     "start_time": "2021-07-07T11:58:00.732722Z"
    }
   },
   "outputs": [
    {
     "data": {
      "text/plain": [
       "2"
      ]
     },
     "execution_count": 25,
     "metadata": {},
     "output_type": "execute_result"
    }
   ],
   "source": [
    "a_col.ndimension()"
   ]
  },
  {
   "cell_type": "markdown",
   "id": "derived-steal",
   "metadata": {},
   "source": [
    "### create torch tensors from numpy arrays: from_numpy, numpy()"
   ]
  },
  {
   "cell_type": "code",
   "execution_count": 26,
   "id": "lasting-burden",
   "metadata": {
    "ExecuteTime": {
     "end_time": "2021-07-07T11:59:53.177963Z",
     "start_time": "2021-07-07T11:59:53.172361Z"
    }
   },
   "outputs": [],
   "source": [
    "import numpy as np\n",
    "numpy_array = np.array([0.0, 1.0, 2.0, 3.0, 4.0])"
   ]
  },
  {
   "cell_type": "code",
   "execution_count": 27,
   "id": "foster-person",
   "metadata": {
    "ExecuteTime": {
     "end_time": "2021-07-07T12:00:34.537042Z",
     "start_time": "2021-07-07T12:00:34.534285Z"
    }
   },
   "outputs": [],
   "source": [
    "torch_tensor = torch.from_numpy(numpy_array)\n",
    "back_to_numpy = torch_tensor.numpy()"
   ]
  },
  {
   "cell_type": "code",
   "execution_count": 28,
   "id": "periodic-baltimore",
   "metadata": {
    "ExecuteTime": {
     "end_time": "2021-07-07T12:00:37.755102Z",
     "start_time": "2021-07-07T12:00:37.741308Z"
    }
   },
   "outputs": [
    {
     "data": {
      "text/plain": [
       "tensor([0., 1., 2., 3., 4.], dtype=torch.float64)"
      ]
     },
     "execution_count": 28,
     "metadata": {},
     "output_type": "execute_result"
    }
   ],
   "source": [
    "torch_tensor"
   ]
  },
  {
   "cell_type": "code",
   "execution_count": 29,
   "id": "virgin-excellence",
   "metadata": {
    "ExecuteTime": {
     "end_time": "2021-07-07T12:00:41.917347Z",
     "start_time": "2021-07-07T12:00:41.901960Z"
    }
   },
   "outputs": [
    {
     "data": {
      "text/plain": [
       "array([0., 1., 2., 3., 4.])"
      ]
     },
     "execution_count": 29,
     "metadata": {},
     "output_type": "execute_result"
    }
   ],
   "source": [
    "back_to_numpy"
   ]
  },
  {
   "cell_type": "markdown",
   "id": "educational-promise",
   "metadata": {},
   "source": [
    "### pandas series to torch tensors"
   ]
  },
  {
   "cell_type": "code",
   "execution_count": 32,
   "id": "bound-ukraine",
   "metadata": {
    "ExecuteTime": {
     "end_time": "2021-07-07T12:03:51.329121Z",
     "start_time": "2021-07-07T12:03:51.317481Z"
    }
   },
   "outputs": [
    {
     "data": {
      "text/plain": [
       "0     0.1\n",
       "1     2.0\n",
       "2     0.3\n",
       "3    10.1\n",
       "dtype: float64"
      ]
     },
     "execution_count": 32,
     "metadata": {},
     "output_type": "execute_result"
    }
   ],
   "source": [
    "import pandas as pd\n",
    "pandas_series = pd.Series([0.1, 2, 0.3, 10.1])\n",
    "pandas_series"
   ]
  },
  {
   "cell_type": "code",
   "execution_count": 33,
   "id": "indie-characterization",
   "metadata": {
    "ExecuteTime": {
     "end_time": "2021-07-07T12:04:18.866685Z",
     "start_time": "2021-07-07T12:04:18.861964Z"
    }
   },
   "outputs": [],
   "source": [
    "pandas_to_torch = torch.from_numpy(pandas_series.values)"
   ]
  },
  {
   "cell_type": "code",
   "execution_count": 34,
   "id": "healthy-marsh",
   "metadata": {
    "ExecuteTime": {
     "end_time": "2021-07-07T12:04:22.924113Z",
     "start_time": "2021-07-07T12:04:22.918297Z"
    }
   },
   "outputs": [
    {
     "data": {
      "text/plain": [
       "tensor([ 0.1000,  2.0000,  0.3000, 10.1000], dtype=torch.float64)"
      ]
     },
     "execution_count": 34,
     "metadata": {},
     "output_type": "execute_result"
    }
   ],
   "source": [
    "pandas_to_torch"
   ]
  },
  {
   "cell_type": "markdown",
   "id": "elegant-breakdown",
   "metadata": {},
   "source": [
    "### tensor to list: tolist()"
   ]
  },
  {
   "cell_type": "code",
   "execution_count": 35,
   "id": "intermediate-husband",
   "metadata": {
    "ExecuteTime": {
     "end_time": "2021-07-07T12:05:34.488918Z",
     "start_time": "2021-07-07T12:05:34.485797Z"
    }
   },
   "outputs": [
    {
     "data": {
      "text/plain": [
       "[0, 1, 2, 3]"
      ]
     },
     "execution_count": 35,
     "metadata": {},
     "output_type": "execute_result"
    }
   ],
   "source": [
    "this_tensor = torch.tensor([0, 1, 2, 3])\n",
    "torch_to_list = this_tensor.tolist()\n",
    "torch_to_list"
   ]
  },
  {
   "cell_type": "markdown",
   "id": "proud-bowling",
   "metadata": {},
   "source": [
    "### item to return a number"
   ]
  },
  {
   "cell_type": "code",
   "execution_count": 36,
   "id": "stuck-republican",
   "metadata": {
    "ExecuteTime": {
     "end_time": "2021-07-07T12:06:43.065018Z",
     "start_time": "2021-07-07T12:06:43.062102Z"
    }
   },
   "outputs": [
    {
     "data": {
      "text/plain": [
       "tensor(5)"
      ]
     },
     "execution_count": 36,
     "metadata": {},
     "output_type": "execute_result"
    }
   ],
   "source": [
    "new_tensor = torch.tensor([5, 2, 6, 1])\n",
    "new_tensor[0]"
   ]
  },
  {
   "cell_type": "code",
   "execution_count": 37,
   "id": "comfortable-chemical",
   "metadata": {
    "ExecuteTime": {
     "end_time": "2021-07-07T12:06:50.941904Z",
     "start_time": "2021-07-07T12:06:50.935579Z"
    }
   },
   "outputs": [
    {
     "data": {
      "text/plain": [
       "5"
      ]
     },
     "execution_count": 37,
     "metadata": {},
     "output_type": "execute_result"
    }
   ],
   "source": [
    "new_tensor[0].item()"
   ]
  },
  {
   "cell_type": "markdown",
   "id": "framed-foster",
   "metadata": {},
   "source": [
    "### indexing and slicing"
   ]
  },
  {
   "cell_type": "code",
   "execution_count": 39,
   "id": "crucial-texas",
   "metadata": {
    "ExecuteTime": {
     "end_time": "2021-07-07T12:17:30.407803Z",
     "start_time": "2021-07-07T12:17:30.401464Z"
    }
   },
   "outputs": [
    {
     "data": {
      "text/plain": [
       "tensor([20,  1,  2,  3,  4])"
      ]
     },
     "execution_count": 39,
     "metadata": {},
     "output_type": "execute_result"
    }
   ],
   "source": [
    "c=torch.tensor([20, 1, 2, 3, 4])\n",
    "c\n"
   ]
  },
  {
   "cell_type": "code",
   "execution_count": 40,
   "id": "adverse-allowance",
   "metadata": {
    "ExecuteTime": {
     "end_time": "2021-07-07T12:17:37.938095Z",
     "start_time": "2021-07-07T12:17:37.921194Z"
    }
   },
   "outputs": [
    {
     "data": {
      "text/plain": [
       "tensor([100,   1,   2,   3,   4])"
      ]
     },
     "execution_count": 40,
     "metadata": {},
     "output_type": "execute_result"
    }
   ],
   "source": [
    "c[0]=100\n",
    "c"
   ]
  },
  {
   "cell_type": "code",
   "execution_count": 41,
   "id": "thrown-occasion",
   "metadata": {
    "ExecuteTime": {
     "end_time": "2021-07-07T12:17:45.006849Z",
     "start_time": "2021-07-07T12:17:45.003883Z"
    }
   },
   "outputs": [
    {
     "data": {
      "text/plain": [
       "tensor([100,   1,   2,   3,   0])"
      ]
     },
     "execution_count": 41,
     "metadata": {},
     "output_type": "execute_result"
    }
   ],
   "source": [
    "c[4]=0\n",
    "c"
   ]
  },
  {
   "cell_type": "code",
   "execution_count": 42,
   "id": "regulated-bench",
   "metadata": {
    "ExecuteTime": {
     "end_time": "2021-07-07T12:18:10.949223Z",
     "start_time": "2021-07-07T12:18:10.946530Z"
    }
   },
   "outputs": [
    {
     "data": {
      "text/plain": [
       "tensor([1, 2, 3])"
      ]
     },
     "execution_count": 42,
     "metadata": {},
     "output_type": "execute_result"
    }
   ],
   "source": [
    "#from 1 to 3\n",
    "d=c[1:4]\n",
    "d"
   ]
  },
  {
   "cell_type": "code",
   "execution_count": 44,
   "id": "transparent-opening",
   "metadata": {
    "ExecuteTime": {
     "end_time": "2021-07-07T12:19:02.322431Z",
     "start_time": "2021-07-07T12:19:02.316467Z"
    }
   },
   "outputs": [
    {
     "data": {
      "text/plain": [
       "tensor([100,   1,   2, 300,   4])"
      ]
     },
     "execution_count": 44,
     "metadata": {},
     "output_type": "execute_result"
    }
   ],
   "source": [
    "c[3:5]=torch.tensor([300.0, 4.0])\n",
    "c"
   ]
  },
  {
   "cell_type": "markdown",
   "id": "least-shelf",
   "metadata": {},
   "source": [
    "## Basic Operations"
   ]
  },
  {
   "cell_type": "markdown",
   "id": "through-phoenix",
   "metadata": {},
   "source": [
    "### vector addition"
   ]
  },
  {
   "cell_type": "code",
   "execution_count": 46,
   "id": "warming-eating",
   "metadata": {
    "ExecuteTime": {
     "end_time": "2021-07-07T12:21:14.056400Z",
     "start_time": "2021-07-07T12:21:14.043537Z"
    }
   },
   "outputs": [
    {
     "data": {
      "text/plain": [
       "tensor([1., 1.])"
      ]
     },
     "execution_count": 46,
     "metadata": {},
     "output_type": "execute_result"
    }
   ],
   "source": [
    "u = torch.tensor([1.0, 0.0])\n",
    "v = torch.tensor([0.0, 1.0])\n",
    "z=u+v\n",
    "z"
   ]
  },
  {
   "cell_type": "markdown",
   "id": "lasting-religious",
   "metadata": {},
   "source": [
    "### Vector multiplication with a scalar"
   ]
  },
  {
   "cell_type": "code",
   "execution_count": 47,
   "id": "metric-letter",
   "metadata": {
    "ExecuteTime": {
     "end_time": "2021-07-07T12:22:58.450336Z",
     "start_time": "2021-07-07T12:22:58.443690Z"
    }
   },
   "outputs": [
    {
     "data": {
      "text/plain": [
       "tensor([2, 4])"
      ]
     },
     "execution_count": 47,
     "metadata": {},
     "output_type": "execute_result"
    }
   ],
   "source": [
    "y = torch.tensor([1, 2])\n",
    "z = 2*y\n",
    "z"
   ]
  },
  {
   "cell_type": "markdown",
   "id": "female-juice",
   "metadata": {},
   "source": [
    "### hadamard product"
   ]
  },
  {
   "cell_type": "code",
   "execution_count": 48,
   "id": "vertical-separation",
   "metadata": {
    "ExecuteTime": {
     "end_time": "2021-07-07T12:25:04.655817Z",
     "start_time": "2021-07-07T12:25:04.643830Z"
    }
   },
   "outputs": [
    {
     "data": {
      "text/plain": [
       "tensor([3, 8])"
      ]
     },
     "execution_count": 48,
     "metadata": {},
     "output_type": "execute_result"
    }
   ],
   "source": [
    "u = torch.tensor([1, 2])\n",
    "v = torch.tensor([3, 4])\n",
    "z = u*v\n",
    "z"
   ]
  },
  {
   "cell_type": "markdown",
   "id": "cardiovascular-venture",
   "metadata": {},
   "source": [
    "### dot product (produit scalaire)"
   ]
  },
  {
   "cell_type": "markdown",
   "id": "widespread-burton",
   "metadata": {},
   "source": [
    "gives an indication about how similar these vectors are"
   ]
  },
  {
   "cell_type": "code",
   "execution_count": 49,
   "id": "geographic-richardson",
   "metadata": {
    "ExecuteTime": {
     "end_time": "2021-07-07T12:27:20.078172Z",
     "start_time": "2021-07-07T12:27:20.060898Z"
    }
   },
   "outputs": [
    {
     "data": {
      "text/plain": [
       "tensor(5)"
      ]
     },
     "execution_count": 49,
     "metadata": {},
     "output_type": "execute_result"
    }
   ],
   "source": [
    "u = torch.tensor([1, 2])\n",
    "v = torch.tensor([3, 1])\n",
    "result = torch.dot(u, v)\n",
    "result"
   ]
  },
  {
   "cell_type": "markdown",
   "id": "loving-alert",
   "metadata": {},
   "source": [
    "### adding constant to a tensor"
   ]
  },
  {
   "cell_type": "markdown",
   "id": "extended-martial",
   "metadata": {},
   "source": [
    "it uses broadcasting"
   ]
  },
  {
   "cell_type": "code",
   "execution_count": 50,
   "id": "specified-guitar",
   "metadata": {
    "ExecuteTime": {
     "end_time": "2021-07-07T12:28:32.066376Z",
     "start_time": "2021-07-07T12:28:32.061103Z"
    }
   },
   "outputs": [
    {
     "data": {
      "text/plain": [
       "tensor([2, 3, 4, 0])"
      ]
     },
     "execution_count": 50,
     "metadata": {},
     "output_type": "execute_result"
    }
   ],
   "source": [
    "u = torch.tensor([1, 2, 3, -1])\n",
    "z = u + 1\n",
    "z\n"
   ]
  },
  {
   "cell_type": "markdown",
   "id": "international-weapon",
   "metadata": {},
   "source": [
    "## Functions"
   ]
  },
  {
   "cell_type": "markdown",
   "id": "collect-gibraltar",
   "metadata": {},
   "source": [
    "### universal functions: mean, max"
   ]
  },
  {
   "cell_type": "code",
   "execution_count": 52,
   "id": "historic-problem",
   "metadata": {
    "ExecuteTime": {
     "end_time": "2021-07-07T12:31:28.007019Z",
     "start_time": "2021-07-07T12:31:28.003755Z"
    }
   },
   "outputs": [
    {
     "data": {
      "text/plain": [
       "tensor(0.)"
      ]
     },
     "execution_count": 52,
     "metadata": {},
     "output_type": "execute_result"
    }
   ],
   "source": [
    "a = torch.tensor([1, -1, 1, -1.0])\n",
    "a.mean()"
   ]
  },
  {
   "cell_type": "code",
   "execution_count": 53,
   "id": "involved-disabled",
   "metadata": {
    "ExecuteTime": {
     "end_time": "2021-07-07T12:32:17.675736Z",
     "start_time": "2021-07-07T12:32:17.670479Z"
    }
   },
   "outputs": [
    {
     "data": {
      "text/plain": [
       "tensor(5)"
      ]
     },
     "execution_count": 53,
     "metadata": {},
     "output_type": "execute_result"
    }
   ],
   "source": [
    "b = torch.tensor([1, -2, 3, 4, 5])\n",
    "b.max()"
   ]
  },
  {
   "cell_type": "markdown",
   "id": "timely-gothic",
   "metadata": {},
   "source": [
    "### mathematical functions"
   ]
  },
  {
   "cell_type": "code",
   "execution_count": 54,
   "id": "suspected-leisure",
   "metadata": {
    "ExecuteTime": {
     "end_time": "2021-07-07T12:33:50.755591Z",
     "start_time": "2021-07-07T12:33:50.752945Z"
    }
   },
   "outputs": [
    {
     "data": {
      "text/plain": [
       "3.141592653589793"
      ]
     },
     "execution_count": 54,
     "metadata": {},
     "output_type": "execute_result"
    }
   ],
   "source": [
    "np.pi"
   ]
  },
  {
   "cell_type": "code",
   "execution_count": 55,
   "id": "swiss-clinic",
   "metadata": {
    "ExecuteTime": {
     "end_time": "2021-07-07T12:34:14.669316Z",
     "start_time": "2021-07-07T12:34:14.663359Z"
    }
   },
   "outputs": [
    {
     "data": {
      "text/plain": [
       "tensor([0.0000, 1.5708, 3.1416])"
      ]
     },
     "execution_count": 55,
     "metadata": {},
     "output_type": "execute_result"
    }
   ],
   "source": [
    "x= torch.tensor([0, np.pi/2, np.pi])\n",
    "x"
   ]
  },
  {
   "cell_type": "code",
   "execution_count": 57,
   "id": "fleet-canberra",
   "metadata": {
    "ExecuteTime": {
     "end_time": "2021-07-07T12:34:26.793788Z",
     "start_time": "2021-07-07T12:34:26.784075Z"
    }
   },
   "outputs": [
    {
     "data": {
      "text/plain": [
       "tensor([ 0.0000e+00,  1.0000e+00, -8.7423e-08])"
      ]
     },
     "execution_count": 57,
     "metadata": {},
     "output_type": "execute_result"
    }
   ],
   "source": [
    "y=torch.sin(x)\n",
    "y"
   ]
  },
  {
   "cell_type": "markdown",
   "id": "ecological-dynamics",
   "metadata": {},
   "source": [
    "### to plot math function: linspace"
   ]
  },
  {
   "cell_type": "code",
   "execution_count": 58,
   "id": "waiting-debut",
   "metadata": {
    "ExecuteTime": {
     "end_time": "2021-07-07T12:35:34.820132Z",
     "start_time": "2021-07-07T12:35:34.808147Z"
    }
   },
   "outputs": [
    {
     "data": {
      "text/plain": [
       "tensor([-2., -1.,  0.,  1.,  2.])"
      ]
     },
     "execution_count": 58,
     "metadata": {},
     "output_type": "execute_result"
    }
   ],
   "source": [
    "# evenly spaced numbers into a specified interval\n",
    "torch.linspace(-2, 2, 5)"
   ]
  },
  {
   "cell_type": "code",
   "execution_count": 60,
   "id": "union-longitude",
   "metadata": {
    "ExecuteTime": {
     "end_time": "2021-07-07T12:36:10.405076Z",
     "start_time": "2021-07-07T12:36:10.401536Z"
    }
   },
   "outputs": [
    {
     "data": {
      "text/plain": [
       "tensor([-2.0000, -1.5000, -1.0000, -0.5000,  0.0000,  0.5000,  1.0000,  1.5000,\n",
       "         2.0000])"
      ]
     },
     "execution_count": 60,
     "metadata": {},
     "output_type": "execute_result"
    }
   ],
   "source": [
    "torch.linspace(-2, 2, 9)"
   ]
  },
  {
   "cell_type": "code",
   "execution_count": 61,
   "id": "faced-moisture",
   "metadata": {
    "ExecuteTime": {
     "end_time": "2021-07-07T12:38:10.935127Z",
     "start_time": "2021-07-07T12:38:10.673759Z"
    }
   },
   "outputs": [
    {
     "data": {
      "text/plain": [
       "[<matplotlib.lines.Line2D at 0x7fe87c52b580>]"
      ]
     },
     "execution_count": 61,
     "metadata": {},
     "output_type": "execute_result"
    },
    {
     "data": {
      "image/png": "[encoded data removed]",
      "text/plain": [
       "<Figure size 432x288 with 1 Axes>"
      ]
     },
     "metadata": {
      "needs_background": "light"
     },
     "output_type": "display_data"
    }
   ],
   "source": [
    "x = torch.linspace(0, 2 * np.pi, 100)\n",
    "y = torch.sin(x)\n",
    "\n",
    "import matplotlib.pyplot as plt\n",
    "%matplotlib inline\n",
    "\n",
    "plt.plot(x.numpy(), y.numpy())"
   ]
  },
  {
   "cell_type": "markdown",
   "id": "miniature-problem",
   "metadata": {},
   "source": [
    "# Tensors 2D"
   ]
  },
  {
   "cell_type": "markdown",
   "id": "derived-bangkok",
   "metadata": {},
   "source": [
    "## Tensor creation in 2D"
   ]
  },
  {
   "cell_type": "code",
   "execution_count": 62,
   "id": "rapid-peripheral",
   "metadata": {
    "ExecuteTime": {
     "end_time": "2021-07-07T16:56:05.569618Z",
     "start_time": "2021-07-07T16:56:05.562718Z"
    }
   },
   "outputs": [
    {
     "data": {
      "text/plain": [
       "tensor([[11, 12, 13],\n",
       "        [21, 22, 23],\n",
       "        [31, 32, 33]])"
      ]
     },
     "execution_count": 62,
     "metadata": {},
     "output_type": "execute_result"
    }
   ],
   "source": [
    "a = [ [11, 12, 13], [21, 22, 23], [31, 32, 33] ]\n",
    "A = torch.tensor(a)\n",
    "A"
   ]
  },
  {
   "cell_type": "code",
   "execution_count": 63,
   "id": "scheduled-activation",
   "metadata": {
    "ExecuteTime": {
     "end_time": "2021-07-07T16:56:18.389963Z",
     "start_time": "2021-07-07T16:56:18.387221Z"
    }
   },
   "outputs": [
    {
     "data": {
      "text/plain": [
       "2"
      ]
     },
     "execution_count": 63,
     "metadata": {},
     "output_type": "execute_result"
    }
   ],
   "source": [
    "A.ndimension()"
   ]
  },
  {
   "cell_type": "code",
   "execution_count": 64,
   "id": "isolated-theology",
   "metadata": {
    "ExecuteTime": {
     "end_time": "2021-07-07T16:56:22.788714Z",
     "start_time": "2021-07-07T16:56:22.786230Z"
    }
   },
   "outputs": [
    {
     "data": {
      "text/plain": [
       "torch.Size([3, 3])"
      ]
     },
     "execution_count": 64,
     "metadata": {},
     "output_type": "execute_result"
    }
   ],
   "source": [
    "A.shape"
   ]
  },
  {
   "cell_type": "code",
   "execution_count": 65,
   "id": "american-marine",
   "metadata": {
    "ExecuteTime": {
     "end_time": "2021-07-07T16:56:30.096184Z",
     "start_time": "2021-07-07T16:56:30.090515Z"
    }
   },
   "outputs": [
    {
     "data": {
      "text/plain": [
       "torch.Size([3, 3])"
      ]
     },
     "execution_count": 65,
     "metadata": {},
     "output_type": "execute_result"
    }
   ],
   "source": [
    "A.size()"
   ]
  },
  {
   "cell_type": "code",
   "execution_count": 66,
   "id": "unknown-leadership",
   "metadata": {
    "ExecuteTime": {
     "end_time": "2021-07-07T16:56:51.946819Z",
     "start_time": "2021-07-07T16:56:51.943866Z"
    }
   },
   "outputs": [
    {
     "data": {
      "text/plain": [
       "9"
      ]
     },
     "execution_count": 66,
     "metadata": {},
     "output_type": "execute_result"
    }
   ],
   "source": [
    "#number of elements\n",
    "A.numel()"
   ]
  },
  {
   "cell_type": "markdown",
   "id": "backed-chrome",
   "metadata": {},
   "source": [
    "## Indexing and slicing in 2D"
   ]
  },
  {
   "cell_type": "code",
   "execution_count": 68,
   "id": "hindu-joshua",
   "metadata": {
    "ExecuteTime": {
     "end_time": "2021-07-07T16:59:44.081356Z",
     "start_time": "2021-07-07T16:59:44.073815Z"
    }
   },
   "outputs": [
    {
     "data": {
      "text/plain": [
       "tensor([[11, 12, 13],\n",
       "        [21, 22, 23],\n",
       "        [31, 32, 33]])"
      ]
     },
     "execution_count": 68,
     "metadata": {},
     "output_type": "execute_result"
    }
   ],
   "source": [
    "a = [ [11, 12, 13], [21, 22, 23], [31, 32, 33] ]\n",
    "A = torch.tensor(a)\n",
    "A"
   ]
  },
  {
   "cell_type": "code",
   "execution_count": 69,
   "id": "incident-utilization",
   "metadata": {
    "ExecuteTime": {
     "end_time": "2021-07-07T16:59:44.450085Z",
     "start_time": "2021-07-07T16:59:44.445835Z"
    }
   },
   "outputs": [
    {
     "data": {
      "text/plain": [
       "tensor([11, 12])"
      ]
     },
     "execution_count": 69,
     "metadata": {},
     "output_type": "execute_result"
    }
   ],
   "source": [
    "A[0, 0:2]"
   ]
  },
  {
   "cell_type": "code",
   "execution_count": 70,
   "id": "alike-passion",
   "metadata": {
    "ExecuteTime": {
     "end_time": "2021-07-07T17:00:05.186009Z",
     "start_time": "2021-07-07T17:00:05.182826Z"
    }
   },
   "outputs": [
    {
     "data": {
      "text/plain": [
       "tensor([23, 33])"
      ]
     },
     "execution_count": 70,
     "metadata": {},
     "output_type": "execute_result"
    }
   ],
   "source": [
    "A[1:3,2]"
   ]
  },
  {
   "cell_type": "markdown",
   "id": "executed-charlotte",
   "metadata": {},
   "source": [
    "## Basic operations in 2D"
   ]
  },
  {
   "cell_type": "markdown",
   "id": "discrete-service",
   "metadata": {},
   "source": [
    "### addition"
   ]
  },
  {
   "cell_type": "code",
   "execution_count": 71,
   "id": "interstate-emphasis",
   "metadata": {
    "ExecuteTime": {
     "end_time": "2021-07-07T17:02:12.218625Z",
     "start_time": "2021-07-07T17:02:12.209796Z"
    }
   },
   "outputs": [
    {
     "data": {
      "text/plain": [
       "tensor([[3, 1],\n",
       "        [1, 3]])"
      ]
     },
     "execution_count": 71,
     "metadata": {},
     "output_type": "execute_result"
    }
   ],
   "source": [
    "X = torch.tensor([[1,0], [0,1]])\n",
    "Y = torch.tensor([[2,1], [1,2]])\n",
    "Z = X+Y\n",
    "Z"
   ]
  },
  {
   "cell_type": "markdown",
   "id": "frozen-instruction",
   "metadata": {},
   "source": [
    "### hadamard product"
   ]
  },
  {
   "cell_type": "code",
   "execution_count": 72,
   "id": "handmade-journalist",
   "metadata": {
    "ExecuteTime": {
     "end_time": "2021-07-07T17:04:17.171624Z",
     "start_time": "2021-07-07T17:04:17.165599Z"
    }
   },
   "outputs": [
    {
     "data": {
      "text/plain": [
       "tensor([[2, 0],\n",
       "        [0, 2]])"
      ]
     },
     "execution_count": 72,
     "metadata": {},
     "output_type": "execute_result"
    }
   ],
   "source": [
    "Z = X*Y\n",
    "Z"
   ]
  },
  {
   "cell_type": "markdown",
   "id": "medium-cotton",
   "metadata": {},
   "source": [
    "### matrix multiplication"
   ]
  },
  {
   "cell_type": "code",
   "execution_count": 73,
   "id": "fixed-position",
   "metadata": {
    "ExecuteTime": {
     "end_time": "2021-07-07T17:07:41.520309Z",
     "start_time": "2021-07-07T17:07:41.507736Z"
    }
   },
   "outputs": [
    {
     "data": {
      "text/plain": [
       "tensor([[0, 2],\n",
       "        [0, 2]])"
      ]
     },
     "execution_count": 73,
     "metadata": {},
     "output_type": "execute_result"
    }
   ],
   "source": [
    "A = torch.tensor([ [0, 1, 1], [1, 0, 1]])\n",
    "B = torch.tensor([ [1, 1], [1, 1], [-1, 1]])\n",
    "C = torch.mm(A, B)\n",
    "C"
   ]
  },
  {
   "cell_type": "code",
   "execution_count": 74,
   "id": "phantom-gothic",
   "metadata": {
    "ExecuteTime": {
     "end_time": "2021-07-07T17:07:49.531218Z",
     "start_time": "2021-07-07T17:07:49.521697Z"
    }
   },
   "outputs": [
    {
     "data": {
      "text/plain": [
       "torch.Size([2, 3])"
      ]
     },
     "execution_count": 74,
     "metadata": {},
     "output_type": "execute_result"
    }
   ],
   "source": [
    "A.shape"
   ]
  },
  {
   "cell_type": "code",
   "execution_count": 75,
   "id": "automatic-prince",
   "metadata": {
    "ExecuteTime": {
     "end_time": "2021-07-07T17:07:56.815331Z",
     "start_time": "2021-07-07T17:07:56.809428Z"
    }
   },
   "outputs": [
    {
     "data": {
      "text/plain": [
       "torch.Size([3, 2])"
      ]
     },
     "execution_count": 75,
     "metadata": {},
     "output_type": "execute_result"
    }
   ],
   "source": [
    "B.shape"
   ]
  },
  {
   "cell_type": "code",
   "execution_count": 77,
   "id": "champion-finance",
   "metadata": {
    "ExecuteTime": {
     "end_time": "2021-07-07T17:08:12.502884Z",
     "start_time": "2021-07-07T17:08:12.499799Z"
    }
   },
   "outputs": [
    {
     "data": {
      "text/plain": [
       "torch.Size([3])"
      ]
     },
     "execution_count": 77,
     "metadata": {},
     "output_type": "execute_result"
    }
   ],
   "source": [
    "A[0,:].shape"
   ]
  },
  {
   "cell_type": "markdown",
   "id": "obvious-cycle",
   "metadata": {},
   "source": [
    "# Derivatives in PyTorch"
   ]
  },
  {
   "cell_type": "markdown",
   "id": "accepting-bronze",
   "metadata": {},
   "source": [
    "## Derivatives"
   ]
  },
  {
   "cell_type": "markdown",
   "id": "understanding-plymouth",
   "metadata": {},
   "source": [
    "$$y(x)=x^2$$"
   ]
  },
  {
   "cell_type": "code",
   "execution_count": 86,
   "id": "meaning-breakfast",
   "metadata": {
    "ExecuteTime": {
     "end_time": "2021-07-08T06:29:32.258894Z",
     "start_time": "2021-07-08T06:29:32.251191Z"
    }
   },
   "outputs": [
    {
     "data": {
      "text/plain": [
       "tensor(4.)"
      ]
     },
     "execution_count": 86,
     "metadata": {},
     "output_type": "execute_result"
    }
   ],
   "source": [
    "import torch\n",
    "\n",
    "x = torch.tensor(2., requires_grad=True)\n",
    "y = x ** 2\n",
    "\n",
    "y.backward()\n",
    "\n",
    "x.grad"
   ]
  },
  {
   "cell_type": "markdown",
   "id": "electronic-lunch",
   "metadata": {},
   "source": [
    "$$z(x)=x^2+2x+1$$"
   ]
  },
  {
   "cell_type": "code",
   "execution_count": 92,
   "id": "south-anthony",
   "metadata": {
    "ExecuteTime": {
     "end_time": "2021-07-08T07:13:51.683533Z",
     "start_time": "2021-07-08T07:13:51.669663Z"
    }
   },
   "outputs": [
    {
     "ename": "RuntimeError",
     "evalue": "Only Tensors of floating point and complex dtype can require gradients",
     "output_type": "error",
     "traceback": [
      "\u001b[0;31m---------------------------------------------------------------------------\u001b[0m",
      "\u001b[0;31mRuntimeError\u001b[0m                              Traceback (most recent call last)",
      "\u001b[0;32m<ipython-input-92-979d0f10c1e7>\u001b[0m in \u001b[0;36m<module>\u001b[0;34m\u001b[0m\n\u001b[1;32m      1\u001b[0m \u001b[0;32mimport\u001b[0m \u001b[0mtorch\u001b[0m\u001b[0;34m\u001b[0m\u001b[0;34m\u001b[0m\u001b[0m\n\u001b[1;32m      2\u001b[0m \u001b[0;34m\u001b[0m\u001b[0m\n\u001b[0;32m----> 3\u001b[0;31m \u001b[0mx\u001b[0m \u001b[0;34m=\u001b[0m \u001b[0mtorch\u001b[0m\u001b[0;34m.\u001b[0m\u001b[0mtensor\u001b[0m\u001b[0;34m(\u001b[0m\u001b[0;36m2\u001b[0m\u001b[0;34m,\u001b[0m \u001b[0mrequires_grad\u001b[0m\u001b[0;34m=\u001b[0m\u001b[0;32mTrue\u001b[0m\u001b[0;34m)\u001b[0m\u001b[0;34m\u001b[0m\u001b[0;34m\u001b[0m\u001b[0m\n\u001b[0m\u001b[1;32m      4\u001b[0m \u001b[0mz\u001b[0m \u001b[0;34m=\u001b[0m \u001b[0mx\u001b[0m\u001b[0;34m**\u001b[0m\u001b[0;36m2\u001b[0m \u001b[0;34m+\u001b[0m \u001b[0;36m2\u001b[0m\u001b[0;34m*\u001b[0m\u001b[0mx\u001b[0m \u001b[0;34m+\u001b[0m \u001b[0;36m1\u001b[0m\u001b[0;34m\u001b[0m\u001b[0;34m\u001b[0m\u001b[0m\n\u001b[1;32m      5\u001b[0m \u001b[0mz\u001b[0m\u001b[0;34m.\u001b[0m\u001b[0mbackward\u001b[0m\u001b[0;34m(\u001b[0m\u001b[0;34m)\u001b[0m\u001b[0;34m\u001b[0m\u001b[0;34m\u001b[0m\u001b[0m\n",
      "\u001b[0;31mRuntimeError\u001b[0m: Only Tensors of floating point and complex dtype can require gradients"
     ]
    }
   ],
   "source": [
    "import torch\n",
    "\n",
    "x = torch.tensor(2, requires_grad=True)\n",
    "z = x**2 + 2*x + 1\n",
    "z.backward()\n",
    "x.grad"
   ]
  },
  {
   "cell_type": "markdown",
   "id": "nasty-pulse",
   "metadata": {},
   "source": [
    "## Partial derivatives"
   ]
  },
  {
   "cell_type": "markdown",
   "id": "recorded-component",
   "metadata": {},
   "source": [
    "$$f(u, v)=uv+u^2$$"
   ]
  },
  {
   "cell_type": "markdown",
   "id": "manual-sleeping",
   "metadata": {},
   "source": [
    "$$\\frac{\\partial f(u,v)}{\\partial u} = v+2u$$\n",
    "\n",
    "$$\\frac{\\partial f(u,v)}{\\partial v} = u$$"
   ]
  },
  {
   "cell_type": "code",
   "execution_count": 87,
   "id": "grave-malawi",
   "metadata": {
    "ExecuteTime": {
     "end_time": "2021-07-08T06:34:16.765981Z",
     "start_time": "2021-07-08T06:34:16.763388Z"
    }
   },
   "outputs": [],
   "source": [
    "import torch\n",
    "u = torch.tensor(1., requires_grad=True)\n",
    "v = torch.tensor(2., requires_grad=True)\n",
    "\n",
    "f = u*v + u**2"
   ]
  },
  {
   "cell_type": "code",
   "execution_count": 88,
   "id": "comparative-component",
   "metadata": {
    "ExecuteTime": {
     "end_time": "2021-07-08T06:35:04.716970Z",
     "start_time": "2021-07-08T06:35:04.708392Z"
    }
   },
   "outputs": [
    {
     "data": {
      "text/plain": [
       "tensor(1.)"
      ]
     },
     "execution_count": 88,
     "metadata": {},
     "output_type": "execute_result"
    }
   ],
   "source": [
    "f.backward()\n",
    "v.grad"
   ]
  },
  {
   "cell_type": "code",
   "execution_count": 89,
   "id": "tracked-hobby",
   "metadata": {
    "ExecuteTime": {
     "end_time": "2021-07-08T06:35:12.303031Z",
     "start_time": "2021-07-08T06:35:12.299579Z"
    }
   },
   "outputs": [
    {
     "data": {
      "text/plain": [
       "tensor(4.)"
      ]
     },
     "execution_count": 89,
     "metadata": {},
     "output_type": "execute_result"
    }
   ],
   "source": [
    "u.grad"
   ]
  },
  {
   "cell_type": "markdown",
   "id": "adjacent-demographic",
   "metadata": {},
   "source": [
    "# Simple Dataset"
   ]
  },
  {
   "cell_type": "markdown",
   "id": "generic-smith",
   "metadata": {},
   "source": [
    "## Build a Dataset Class and Object"
   ]
  },
  {
   "cell_type": "code",
   "execution_count": 95,
   "id": "younger-bridal",
   "metadata": {
    "ExecuteTime": {
     "end_time": "2021-07-08T07:23:22.849381Z",
     "start_time": "2021-07-08T07:23:22.838765Z"
    }
   },
   "outputs": [],
   "source": [
    "from torch.utils.data import Dataset\n",
    "\n",
    "class toy_set(Dataset):\n",
    "    def __init__(self, length=100, transform=None):\n",
    "        self.x = 2*torch.ones(length, 2)\n",
    "        self.y = torch.ones(length, 1)\n",
    "        self.len = length\n",
    "        self.transform = transform\n",
    "    def __getitem__(self, index):\n",
    "        sample=self.x[index], self.y[index]\n",
    "        if self.transform:\n",
    "            sample = self.transform(sample)\n",
    "        return sample\n",
    "    def __len__(self):\n",
    "        return self.len"
   ]
  },
  {
   "cell_type": "code",
   "execution_count": 97,
   "id": "educational-destination",
   "metadata": {
    "ExecuteTime": {
     "end_time": "2021-07-08T07:23:30.773729Z",
     "start_time": "2021-07-08T07:23:30.766989Z"
    }
   },
   "outputs": [
    {
     "data": {
      "text/plain": [
       "100"
      ]
     },
     "execution_count": 97,
     "metadata": {},
     "output_type": "execute_result"
    }
   ],
   "source": [
    "dataset = toy_set()\n",
    "len(dataset)"
   ]
  },
  {
   "cell_type": "code",
   "execution_count": 98,
   "id": "subtle-single",
   "metadata": {
    "ExecuteTime": {
     "end_time": "2021-07-08T07:23:51.987546Z",
     "start_time": "2021-07-08T07:23:51.981526Z"
    }
   },
   "outputs": [
    {
     "data": {
      "text/plain": [
       "(tensor([2., 2.]), tensor([1.]))"
      ]
     },
     "execution_count": 98,
     "metadata": {},
     "output_type": "execute_result"
    }
   ],
   "source": [
    "dataset[0]"
   ]
  },
  {
   "cell_type": "code",
   "execution_count": 99,
   "id": "still-breakdown",
   "metadata": {
    "ExecuteTime": {
     "end_time": "2021-07-08T07:26:19.101950Z",
     "start_time": "2021-07-08T07:26:19.096655Z"
    }
   },
   "outputs": [
    {
     "name": "stdout",
     "output_type": "stream",
     "text": [
      "0 x:tensor([2., 2.]), y:tensor([1.])\n",
      "1 x:tensor([2., 2.]), y:tensor([1.])\n",
      "2 x:tensor([2., 2.]), y:tensor([1.])\n"
     ]
    }
   ],
   "source": [
    "for i in range(3):\n",
    "    x, y = dataset[i]\n",
    "    print(f'{i} x:{x}, y:{y}')"
   ]
  },
  {
   "cell_type": "markdown",
   "id": "understanding-reconstruction",
   "metadata": {},
   "source": [
    "## Build a Dataset Transform (e.g. normalize or standardize)"
   ]
  },
  {
   "cell_type": "code",
   "execution_count": 102,
   "id": "afraid-consolidation",
   "metadata": {
    "ExecuteTime": {
     "end_time": "2021-07-08T07:29:56.220500Z",
     "start_time": "2021-07-08T07:29:56.208773Z"
    }
   },
   "outputs": [],
   "source": [
    "class add_mult(object):\n",
    "    def __init__(self, addx=1, muly=1):\n",
    "        self.addx = addx\n",
    "        self.muly = muly\n",
    "    def __call__(self, sample):\n",
    "        x=sample[0]\n",
    "        y=sample[1]\n",
    "        x=x+self.addx\n",
    "        y=y*self.muly\n",
    "        sample=x, y\n",
    "        return sample\n",
    "    "
   ]
  },
  {
   "cell_type": "code",
   "execution_count": 104,
   "id": "academic-istanbul",
   "metadata": {
    "ExecuteTime": {
     "end_time": "2021-07-08T07:31:46.888628Z",
     "start_time": "2021-07-08T07:31:46.884002Z"
    }
   },
   "outputs": [
    {
     "data": {
      "text/plain": [
       "(tensor([3., 3.]), tensor([1.]))"
      ]
     },
     "execution_count": 104,
     "metadata": {},
     "output_type": "execute_result"
    }
   ],
   "source": [
    "# applying the transform directly to the dataset\n",
    "dataset = toy_set()\n",
    "a_m = add_mult()\n",
    "x_, y_ = a_m(dataset[0])\n",
    "x_, y_"
   ]
  },
  {
   "cell_type": "code",
   "execution_count": 105,
   "id": "suitable-liquid",
   "metadata": {
    "ExecuteTime": {
     "end_time": "2021-07-08T07:34:20.088291Z",
     "start_time": "2021-07-08T07:34:20.082888Z"
    }
   },
   "outputs": [
    {
     "data": {
      "text/plain": [
       "(tensor([3., 3.]), tensor([1.]))"
      ]
     },
     "execution_count": 105,
     "metadata": {},
     "output_type": "execute_result"
    }
   ],
   "source": [
    "# automatically apply the transform\n",
    "a_m = add_mult()\n",
    "dataset_ = toy_set(transform=a_m)\n",
    "dataset_[0]"
   ]
  },
  {
   "cell_type": "markdown",
   "id": "streaming-sunday",
   "metadata": {},
   "source": [
    "## Compose Transforms"
   ]
  },
  {
   "cell_type": "code",
   "execution_count": 108,
   "id": "canadian-temperature",
   "metadata": {
    "ExecuteTime": {
     "end_time": "2021-07-08T07:36:43.774485Z",
     "start_time": "2021-07-08T07:36:43.768346Z"
    }
   },
   "outputs": [],
   "source": [
    "class mult(object):\n",
    "    def __init__(self, mul=100):\n",
    "        self.mul = mul\n",
    "\n",
    "    def __call__(self, sample):\n",
    "        x = sample[0]\n",
    "        y = sample[1]\n",
    "        x = x * self.mul\n",
    "        y = y * self.mul\n",
    "        sample = x, y\n",
    "        return sample"
   ]
  },
  {
   "cell_type": "code",
   "execution_count": 109,
   "id": "moved-listening",
   "metadata": {
    "ExecuteTime": {
     "end_time": "2021-07-08T07:37:46.897428Z",
     "start_time": "2021-07-08T07:37:46.839541Z"
    }
   },
   "outputs": [],
   "source": [
    "from torchvision import transforms\n",
    "\n",
    "data_transform = transforms.Compose([add_mult(), mult()])"
   ]
  },
  {
   "cell_type": "code",
   "execution_count": 110,
   "id": "respiratory-priest",
   "metadata": {
    "ExecuteTime": {
     "end_time": "2021-07-08T07:38:45.785863Z",
     "start_time": "2021-07-08T07:38:45.776258Z"
    }
   },
   "outputs": [
    {
     "data": {
      "text/plain": [
       "(tensor([300., 300.]), tensor([100.]))"
      ]
     },
     "execution_count": 110,
     "metadata": {},
     "output_type": "execute_result"
    }
   ],
   "source": [
    "#applying composed transform on data directly\n",
    "x_, y_ = data_transform(dataset[0])\n",
    "x_, y_"
   ]
  },
  {
   "cell_type": "code",
   "execution_count": 111,
   "id": "ambient-reference",
   "metadata": {
    "ExecuteTime": {
     "end_time": "2021-07-08T07:39:56.136377Z",
     "start_time": "2021-07-08T07:39:56.132383Z"
    }
   },
   "outputs": [
    {
     "data": {
      "text/plain": [
       "(tensor([300., 300.]), tensor([100.]))"
      ]
     },
     "execution_count": 111,
     "metadata": {},
     "output_type": "execute_result"
    }
   ],
   "source": [
    "#or directly in dataset\n",
    "dataset_tr = toy_set(transform=data_transform)\n",
    "dataset_tr[0]"
   ]
  },
  {
   "cell_type": "markdown",
   "id": "mexican-incentive",
   "metadata": {},
   "source": [
    "# Dataset"
   ]
  },
  {
   "cell_type": "markdown",
   "id": "photographic-blowing",
   "metadata": {},
   "source": [
    "## Dataset Class for images"
   ]
  },
  {
   "cell_type": "code",
   "execution_count": 115,
   "id": "large-slovakia",
   "metadata": {
    "ExecuteTime": {
     "end_time": "2021-07-08T08:05:00.020172Z",
     "start_time": "2021-07-08T08:05:00.017623Z"
    }
   },
   "outputs": [],
   "source": [
    "from PIL import Image\n",
    "import pandas as pd\n",
    "import os\n",
    "from matplotlib.pyplot import imshow\n",
    "from torch.utils.data import Dataset, DataLoader"
   ]
  },
  {
   "cell_type": "markdown",
   "id": "particular-express",
   "metadata": {},
   "source": [
    "Download MNIST fashion dataset (only first 100 images)"
   ]
  },
  {
   "cell_type": "code",
   "execution_count": 130,
   "id": "clean-russell",
   "metadata": {
    "ExecuteTime": {
     "end_time": "2021-07-09T06:38:35.550588Z",
     "start_time": "2021-07-09T06:38:28.991546Z"
    }
   },
   "outputs": [
    {
     "name": "stdout",
     "output_type": "stream",
     "text": [
      "--2021-07-09 08:38:29--  https://cf-courses-data.s3.us.cloud-object-storage.appdomain.cloud/IBMDeveloperSkillsNetwork-DL0110EN-SkillsNetwork/labs/Week1/data/img.tar.gz\n",
      "Resolving cf-courses-data.s3.us.cloud-object-storage.appdomain.cloud (cf-courses-data.s3.us.cloud-object-storage.appdomain.cloud)... 169.63.118.104\n",
      "Connecting to cf-courses-data.s3.us.cloud-object-storage.appdomain.cloud (cf-courses-data.s3.us.cloud-object-storage.appdomain.cloud)|169.63.118.104|:443... connected.\n",
      "HTTP request sent, awaiting response... 304 Not Modified\n",
      "File ‘./resources/data/img.tar.gz’ not modified on server. Omitting download.\n",
      "\n",
      "--2021-07-09 08:38:30--  https://cf-courses-data.s3.us.cloud-object-storage.appdomain.cloud/IBMDeveloperSkillsNetwork-DL0110EN-SkillsNetwork/labs/Week1/data/index.csv\n",
      "Resolving cf-courses-data.s3.us.cloud-object-storage.appdomain.cloud (cf-courses-data.s3.us.cloud-object-storage.appdomain.cloud)... 169.63.118.104\n",
      "Connecting to cf-courses-data.s3.us.cloud-object-storage.appdomain.cloud (cf-courses-data.s3.us.cloud-object-storage.appdomain.cloud)|169.63.118.104|:443... connected.\n",
      "HTTP request sent, awaiting response... 200 OK\n",
      "Length: 1680905 (1,6M) [text/csv]\n",
      "Saving to: ‘index.csv’\n",
      "\n",
      "index.csv           100%[===================>]   1,60M   382KB/s    in 4,4s    \n",
      "\n",
      "2021-07-09 08:38:35 (372 KB/s) - ‘index.csv’ saved [1680905/1680905]\n",
      "\n"
     ]
    }
   ],
   "source": [
    "!wget -N https://cf-courses-data.s3.us.cloud-object-storage.appdomain.cloud/IBMDeveloperSkillsNetwork-DL0110EN-SkillsNetwork/labs/Week1/data/img.tar.gz -P ./resources/data/\n",
    "\n",
    "!tar -xf ./resources/data/img.tar.gz \n",
    "\n",
    "!wget  https://cf-courses-data.s3.us.cloud-object-storage.appdomain.cloud/IBMDeveloperSkillsNetwork-DL0110EN-SkillsNetwork/labs/Week1/data/index.csv -O index.csv\n",
    "\n",
    "!mv index.csv ./resources/data/"
   ]
  },
  {
   "cell_type": "code",
   "execution_count": 133,
   "id": "north-pacific",
   "metadata": {
    "ExecuteTime": {
     "end_time": "2021-07-09T06:39:22.446128Z",
     "start_time": "2021-07-09T06:39:22.414289Z"
    }
   },
   "outputs": [
    {
     "data": {
      "text/html": [
       "<div>\n",
       "<style scoped>\n",
       "    .dataframe tbody tr th:only-of-type {\n",
       "        vertical-align: middle;\n",
       "    }\n",
       "\n",
       "    .dataframe tbody tr th {\n",
       "        vertical-align: top;\n",
       "    }\n",
       "\n",
       "    .dataframe thead th {\n",
       "        text-align: right;\n",
       "    }\n",
       "</style>\n",
       "<table border=\"1\" class=\"dataframe\">\n",
       "  <thead>\n",
       "    <tr style=\"text-align: right;\">\n",
       "      <th></th>\n",
       "      <th>category</th>\n",
       "      <th>image</th>\n",
       "    </tr>\n",
       "  </thead>\n",
       "  <tbody>\n",
       "    <tr>\n",
       "      <th>0</th>\n",
       "      <td>Ankle boot</td>\n",
       "      <td>img/fashion0.png</td>\n",
       "    </tr>\n",
       "    <tr>\n",
       "      <th>1</th>\n",
       "      <td>T-shirt</td>\n",
       "      <td>img/fashion1.png</td>\n",
       "    </tr>\n",
       "    <tr>\n",
       "      <th>2</th>\n",
       "      <td>T-shirt</td>\n",
       "      <td>img/fashion2.png</td>\n",
       "    </tr>\n",
       "    <tr>\n",
       "      <th>3</th>\n",
       "      <td>Dress</td>\n",
       "      <td>img/fashion3.png</td>\n",
       "    </tr>\n",
       "    <tr>\n",
       "      <th>4</th>\n",
       "      <td>T-shirt</td>\n",
       "      <td>img/fashion4.png</td>\n",
       "    </tr>\n",
       "  </tbody>\n",
       "</table>\n",
       "</div>"
      ],
      "text/plain": [
       "     category             image\n",
       "0  Ankle boot  img/fashion0.png\n",
       "1     T-shirt  img/fashion1.png\n",
       "2     T-shirt  img/fashion2.png\n",
       "3       Dress  img/fashion3.png\n",
       "4     T-shirt  img/fashion4.png"
      ]
     },
     "execution_count": 133,
     "metadata": {},
     "output_type": "execute_result"
    }
   ],
   "source": [
    "directory = \"./resources/data\"\n",
    "csv_file = \"index.csv\"\n",
    "csv_path = os.path.join(directory, csv_file)\n",
    "\n",
    "data_name = pd.read_csv(csv_path)\n",
    "data_name.head()"
   ]
  },
  {
   "cell_type": "code",
   "execution_count": 134,
   "id": "atmospheric-pension",
   "metadata": {
    "ExecuteTime": {
     "end_time": "2021-07-09T06:43:08.722434Z",
     "start_time": "2021-07-09T06:43:08.715138Z"
    }
   },
   "outputs": [
    {
     "data": {
      "text/plain": [
       "60000"
      ]
     },
     "execution_count": 134,
     "metadata": {},
     "output_type": "execute_result"
    }
   ],
   "source": [
    "len(data_name)"
   ]
  },
  {
   "cell_type": "code",
   "execution_count": 151,
   "id": "stylish-softball",
   "metadata": {
    "ExecuteTime": {
     "end_time": "2021-07-09T06:49:22.763280Z",
     "start_time": "2021-07-09T06:49:22.662442Z"
    }
   },
   "outputs": [
    {
     "name": "stdout",
     "output_type": "stream",
     "text": [
      "Random image path img/fashion17.png\n"
     ]
    },
    {
     "data": {
      "image/png": "[encoded data removed]",
      "text/plain": [
       "<Figure size 432x288 with 1 Axes>"
      ]
     },
     "metadata": {
      "needs_background": "light"
     },
     "output_type": "display_data"
    }
   ],
   "source": [
    "import random\n",
    "index_image = random.randint(0,99)\n",
    "image_path = data_name.iloc[index_image]['image']\n",
    "print(f'Random image path {image_path}')\n",
    "image = Image.open(image_path)\n",
    "plt.imshow(image, cmap='gray', vmin=0, vmax=255)\n",
    "plt.title(data_name.iloc[index_image]['category'])\n",
    "plt.show()"
   ]
  },
  {
   "cell_type": "code",
   "execution_count": null,
   "id": "atmospheric-karma",
   "metadata": {},
   "outputs": [],
   "source": []
  }
 ],
 "metadata": {
  "kernelspec": {
   "display_name": "Python 3",
   "language": "python",
   "name": "python3"
  },
  "language_info": {
   "codemirror_mode": {
    "name": "ipython",
    "version": 3
   },
   "file_extension": ".py",
   "mimetype": "text/x-python",
   "name": "python",
   "nbconvert_exporter": "python",
   "pygments_lexer": "ipython3",
   "version": "3.8.5"
  },
  "toc": {
   "base_numbering": 1,
   "nav_menu": {},
   "number_sections": true,
   "sideBar": true,
   "skip_h1_title": false,
   "title_cell": "Table of Contents",
   "title_sidebar": "Contents",
   "toc_cell": false,
   "toc_position": {},
   "toc_section_display": true,
   "toc_window_display": true
  }
 },
 "nbformat": 4,
 "nbformat_minor": 5
}
