{
 "cells": [
  {
   "cell_type": "markdown",
   "metadata": {},
   "source": [
    "# Installation"
   ]
  },
  {
   "cell_type": "markdown",
   "metadata": {},
   "source": [
    "```bash\n",
    "conda create -n pytorch python=3.8\n",
    "conda activate pytorch\n",
    "conda install -c pytorch pytorch=1.7.1 torchvision\n",
    "conda install jupyter\n",
    "conda install -c conda-forge jupyter_contrib_nbextensions\n",
    "```"
   ]
  },
  {
   "cell_type": "code",
   "execution_count": 1,
   "metadata": {
    "ExecuteTime": {
     "end_time": "2021-01-12T15:34:23.512173Z",
     "start_time": "2021-01-12T15:34:23.138991Z"
    }
   },
   "outputs": [
    {
     "name": "stdout",
     "output_type": "stream",
     "text": [
      "# conda environments:\r\n",
      "#\r\n",
      "base                     /home/explore/miniconda3\r\n",
      "d059                     /home/explore/miniconda3/envs/d059\r\n",
      "datacamp                 /home/explore/miniconda3/envs/datacamp\r\n",
      "deeplearning_specialization     /home/explore/miniconda3/envs/deeplearning_specialization\r\n",
      "deeplearning_specialization_keras     /home/explore/miniconda3/envs/deeplearning_specialization_keras\r\n",
      "deeplearning_specialization_tf1     /home/explore/miniconda3/envs/deeplearning_specialization_tf1\r\n",
      "drl_handson              /home/explore/miniconda3/envs/drl_handson\r\n",
      "fastai                   /home/explore/miniconda3/envs/fastai\r\n",
      "gan                      /home/explore/miniconda3/envs/gan\r\n",
      "gan_tensorflow           /home/explore/miniconda3/envs/gan_tensorflow\r\n",
      "mit_6002x                /home/explore/miniconda3/envs/mit_6002x\r\n",
      "pytorch               *  /home/explore/miniconda3/envs/pytorch\r\n",
      "squeezebox               /home/explore/miniconda3/envs/squeezebox\r\n",
      "\r\n"
     ]
    }
   ],
   "source": [
    "!conda env list"
   ]
  },
  {
   "cell_type": "code",
   "execution_count": 3,
   "metadata": {
    "ExecuteTime": {
     "end_time": "2021-01-12T15:38:18.674532Z",
     "start_time": "2021-01-12T15:38:15.159436Z"
    }
   },
   "outputs": [
    {
     "name": "stdout",
     "output_type": "stream",
     "text": [
      "Collecting package metadata (current_repodata.json): done\n",
      "Solving environment: done\n",
      "\n",
      "## Package Plan ##\n",
      "\n",
      "  environment location: /home/explore/miniconda3/envs/pytorch\n",
      "\n",
      "  added / updated specs:\n",
      "    - matplotlib\n",
      "\n",
      "\n",
      "The following packages will be downloaded:\n",
      "\n",
      "    package                    |            build\n",
      "    ---------------------------|-----------------\n",
      "    matplotlib-3.3.2           |       h06a4308_0          24 KB\n",
      "    ------------------------------------------------------------\n",
      "                                           Total:          24 KB\n",
      "\n",
      "The following NEW packages will be INSTALLED:\n",
      "\n",
      "  cycler             pkgs/main/linux-64::cycler-0.10.0-py38_0\n",
      "  kiwisolver         pkgs/main/linux-64::kiwisolver-1.3.0-py38h2531618_0\n",
      "  matplotlib         pkgs/main/linux-64::matplotlib-3.3.2-h06a4308_0\n",
      "  matplotlib-base    pkgs/main/linux-64::matplotlib-base-3.3.2-py38h817c723_0\n",
      "\n",
      "The following packages will be SUPERSEDED by a higher-priority channel:\n",
      "\n",
      "  certifi            conda-forge::certifi-2020.12.5-py38h5~ --> pkgs/main::certifi-2020.12.5-py38h06a4308_0\n",
      "\n",
      "\n",
      "\n",
      "Downloading and Extracting Packages\n",
      "matplotlib-3.3.2     | 24 KB     | ##################################### | 100% \n",
      "Preparing transaction: done\n",
      "Verifying transaction: done\n",
      "Executing transaction: done\n"
     ]
    }
   ],
   "source": [
    "# Install a conda package in the current Jupyter kernel\n",
    "import sys\n",
    "!conda install --yes --prefix {sys.prefix} matplotlib\n",
    "\n"
   ]
  },
  {
   "cell_type": "markdown",
   "metadata": {},
   "source": [
    "# Test and validation"
   ]
  },
  {
   "cell_type": "code",
   "execution_count": 1,
   "metadata": {},
   "outputs": [
    {
     "name": "stdout",
     "output_type": "stream",
     "text": [
      "tensor([[0.1905, 0.0648, 0.0032],\n",
      "        [0.6343, 0.3537, 0.2147],\n",
      "        [0.9744, 0.2937, 0.1355],\n",
      "        [0.6152, 0.2756, 0.8049],\n",
      "        [0.2586, 0.7912, 0.1179]])\n"
     ]
    }
   ],
   "source": [
    "import torch\n",
    "x = torch.rand(5, 3)\n",
    "print(x)\n"
   ]
  },
  {
   "cell_type": "code",
   "execution_count": 1,
   "metadata": {
    "ExecuteTime": {
     "end_time": "2021-01-13T08:59:37.269193Z",
     "start_time": "2021-01-13T08:59:36.113714Z"
    }
   },
   "outputs": [
    {
     "data": {
      "text/plain": [
       "True"
      ]
     },
     "execution_count": 1,
     "metadata": {},
     "output_type": "execute_result"
    }
   ],
   "source": [
    "import torch\n",
    "torch.cuda.is_available()\n"
   ]
  },
  {
   "cell_type": "code",
   "execution_count": null,
   "metadata": {},
   "outputs": [],
   "source": []
  }
 ],
 "metadata": {
  "kernelspec": {
   "display_name": "Python 3",
   "language": "python",
   "name": "python3"
  },
  "language_info": {
   "codemirror_mode": {
    "name": "ipython",
    "version": 3
   },
   "file_extension": ".py",
   "mimetype": "text/x-python",
   "name": "python",
   "nbconvert_exporter": "python",
   "pygments_lexer": "ipython3",
   "version": "3.8.5"
  },
  "toc": {
   "base_numbering": 1,
   "nav_menu": {},
   "number_sections": true,
   "sideBar": true,
   "skip_h1_title": false,
   "title_cell": "Table of Contents",
   "title_sidebar": "Contents",
   "toc_cell": false,
   "toc_position": {},
   "toc_section_display": true,
   "toc_window_display": true
  }
 },
 "nbformat": 4,
 "nbformat_minor": 4
}
