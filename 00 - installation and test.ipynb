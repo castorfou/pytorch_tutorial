{
 "cells": [
  {
   "cell_type": "markdown",
   "metadata": {},
   "source": [
    "# Installation"
   ]
  },
  {
   "cell_type": "markdown",
   "metadata": {},
   "source": [
    "```bash\n",
    "conda create -n pytorch python=3.8\n",
    "conda activate pytorch\n",
    "conda install -c pytorch pytorch=1.7.1 torchvision\n",
    "conda install jupyter\n",
    "conda install -c conda-forge jupyter_contrib_nbextensions\n",
    "```"
   ]
  },
  {
   "cell_type": "code",
   "execution_count": 1,
   "metadata": {
    "ExecuteTime": {
     "end_time": "2021-04-09T15:51:34.929005Z",
     "start_time": "2021-04-09T15:51:34.514584Z"
    }
   },
   "outputs": [
    {
     "name": "stdout",
     "output_type": "stream",
     "text": [
      "# conda environments:\r\n",
      "#\r\n",
      "base                     /home/explore/miniconda3\r\n",
      "aniti                    /home/explore/miniconda3/envs/aniti\r\n",
      "d059                     /home/explore/miniconda3/envs/d059\r\n",
      "datacamp                 /home/explore/miniconda3/envs/datacamp\r\n",
      "deeplearning_specialization     /home/explore/miniconda3/envs/deeplearning_specialization\r\n",
      "deeplearning_specialization_keras     /home/explore/miniconda3/envs/deeplearning_specialization_keras\r\n",
      "deeplearning_specialization_tf1     /home/explore/miniconda3/envs/deeplearning_specialization_tf1\r\n",
      "drl_handson              /home/explore/miniconda3/envs/drl_handson\r\n",
      "drl_simonini             /home/explore/miniconda3/envs/drl_simonini\r\n",
      "fastai                   /home/explore/miniconda3/envs/fastai\r\n",
      "gan                      /home/explore/miniconda3/envs/gan\r\n",
      "gan_tensorflow           /home/explore/miniconda3/envs/gan_tensorflow\r\n",
      "mit_6002x                /home/explore/miniconda3/envs/mit_6002x\r\n",
      "mit_6S191                /home/explore/miniconda3/envs/mit_6S191\r\n",
      "pycaret                  /home/explore/miniconda3/envs/pycaret\r\n",
      "pytorch               *  /home/explore/miniconda3/envs/pytorch\r\n",
      "squeezebox               /home/explore/miniconda3/envs/squeezebox\r\n",
      "stablebaselines3         /home/explore/miniconda3/envs/stablebaselines3\r\n",
      "\r\n"
     ]
    }
   ],
   "source": [
    "!conda env list"
   ]
  },
  {
   "cell_type": "code",
   "execution_count": 2,
   "metadata": {
    "ExecuteTime": {
     "end_time": "2021-04-09T15:51:40.548117Z",
     "start_time": "2021-04-09T15:51:34.930405Z"
    }
   },
   "outputs": [
    {
     "name": "stdout",
     "output_type": "stream",
     "text": [
      "Collecting package metadata (current_repodata.json): done\n",
      "Solving environment: done\n",
      "\n",
      "\n",
      "==> WARNING: A newer version of conda exists. <==\n",
      "  current version: 4.9.2\n",
      "  latest version: 4.10.0\n",
      "\n",
      "Please update conda by running\n",
      "\n",
      "    $ conda update -n base -c defaults conda\n",
      "\n",
      "\n",
      "\n",
      "## Package Plan ##\n",
      "\n",
      "  environment location: /home/explore/miniconda3/envs/pytorch\n",
      "\n",
      "  added / updated specs:\n",
      "    - matplotlib\n",
      "\n",
      "\n",
      "The following packages will be downloaded:\n",
      "\n",
      "    package                    |            build\n",
      "    ---------------------------|-----------------\n",
      "    jedi-0.17.2                |   py38h06a4308_1         924 KB\n",
      "    ------------------------------------------------------------\n",
      "                                           Total:         924 KB\n",
      "\n",
      "The following packages will be UPDATED:\n",
      "\n",
      "  ca-certificates                      2020.12.8-h06a4308_0 --> 2021.1.19-h06a4308_1\n",
      "  openssl                                 1.1.1i-h27cfd23_0 --> 1.1.1k-h27cfd23_0\n",
      "\n",
      "The following packages will be DOWNGRADED:\n",
      "\n",
      "  jedi                                0.18.0-py38h06a4308_0 --> 0.17.2-py38h06a4308_1\n",
      "\n",
      "\n",
      "\n",
      "Downloading and Extracting Packages\n",
      "jedi-0.17.2          | 924 KB    | ##################################### | 100% \n",
      "Preparing transaction: done\n",
      "Verifying transaction: done\n",
      "Executing transaction: done\n"
     ]
    }
   ],
   "source": [
    "# Install a conda package in the current Jupyter kernel\n",
    "import sys\n",
    "!conda install --yes --prefix {sys.prefix} matplotlib\n",
    "\n"
   ]
  },
  {
   "cell_type": "markdown",
   "metadata": {},
   "source": [
    "# Test and validation"
   ]
  },
  {
   "cell_type": "code",
   "execution_count": 3,
   "metadata": {
    "ExecuteTime": {
     "end_time": "2021-04-09T15:51:41.793424Z",
     "start_time": "2021-04-09T15:51:40.554298Z"
    }
   },
   "outputs": [
    {
     "name": "stdout",
     "output_type": "stream",
     "text": [
      "tensor([[0.3239, 0.1340, 0.1006],\n",
      "        [0.2636, 0.3276, 0.1870],\n",
      "        [0.5507, 0.6116, 0.4729],\n",
      "        [0.8170, 0.5314, 0.9549],\n",
      "        [0.0659, 0.6778, 0.0985]])\n"
     ]
    }
   ],
   "source": [
    "import torch\n",
    "x = torch.rand(5, 3)\n",
    "print(x)\n"
   ]
  },
  {
   "cell_type": "code",
   "execution_count": 4,
   "metadata": {
    "ExecuteTime": {
     "end_time": "2021-04-09T15:51:41.814181Z",
     "start_time": "2021-04-09T15:51:41.794734Z"
    }
   },
   "outputs": [
    {
     "data": {
      "text/plain": [
       "True"
      ]
     },
     "execution_count": 4,
     "metadata": {},
     "output_type": "execute_result"
    }
   ],
   "source": [
    "import torch\n",
    "torch.cuda.is_available()\n"
   ]
  },
  {
   "cell_type": "code",
   "execution_count": null,
   "metadata": {},
   "outputs": [],
   "source": []
  }
 ],
 "metadata": {
  "kernelspec": {
   "display_name": "Python 3",
   "language": "python",
   "name": "python3"
  },
  "language_info": {
   "codemirror_mode": {
    "name": "ipython",
    "version": 3
   },
   "file_extension": ".py",
   "mimetype": "text/x-python",
   "name": "python",
   "nbconvert_exporter": "python",
   "pygments_lexer": "ipython3",
   "version": "3.8.5"
  },
  "toc": {
   "base_numbering": 1,
   "nav_menu": {},
   "number_sections": true,
   "sideBar": true,
   "skip_h1_title": false,
   "title_cell": "Table of Contents",
   "title_sidebar": "Contents",
   "toc_cell": false,
   "toc_position": {},
   "toc_section_display": true,
   "toc_window_display": true
  }
 },
 "nbformat": 4,
 "nbformat_minor": 4
}
